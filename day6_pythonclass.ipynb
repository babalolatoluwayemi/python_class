{
 "cells": [
  {
   "cell_type": "raw",
   "id": "b2b3246a",
   "metadata": {},
   "source": [
    "import this"
   ]
  },
  {
   "cell_type": "code",
   "execution_count": 8,
   "id": "1a325468",
   "metadata": {},
   "outputs": [
    {
     "name": "stdout",
     "output_type": "stream",
     "text": [
      "{3: 5, 5: 2, 'timi': 2, 'jane': 1, 4: 2}\n"
     ]
    }
   ],
   "source": [
    "array = [3, 5, \"timi\", 3, \"jane\", 5, 4, 3, 4, 3, 3, \"timi\"]\n",
    "dict_arr = {}\n",
    "for i in array:\n",
    "    dict_arr[i] = dict_arr.get(i,0) +1\n",
    "print(dict_arr)"
   ]
  },
  {
   "cell_type": "code",
   "execution_count": 9,
   "id": "79c91577",
   "metadata": {},
   "outputs": [
    {
     "name": "stdout",
     "output_type": "stream",
     "text": [
      "[5, 2, 2, 1, 2]\n"
     ]
    }
   ],
   "source": [
    "count = []\n",
    "for i, j in dict_arr.items():\n",
    "    count.append(j)\n",
    "print(count)"
   ]
  },
  {
   "cell_type": "code",
   "execution_count": 10,
   "id": "a0e21575",
   "metadata": {},
   "outputs": [
    {
     "name": "stdout",
     "output_type": "stream",
     "text": [
      "5\n"
     ]
    }
   ],
   "source": [
    "d_max = count[0]\n",
    "for i in count:\n",
    "    if i > d_max:\n",
    "        d_max = i\n",
    "print(d_max)"
   ]
  },
  {
   "cell_type": "code",
   "execution_count": 11,
   "id": "c154c133",
   "metadata": {},
   "outputs": [
    {
     "name": "stdout",
     "output_type": "stream",
     "text": [
      "3\n"
     ]
    }
   ],
   "source": [
    "for k, n in dict_arr.items():\n",
    "    if n == d_max:\n",
    "        print(k)"
   ]
  },
  {
   "cell_type": "code",
   "execution_count": 12,
   "id": "4608de9e",
   "metadata": {},
   "outputs": [
    {
     "name": "stdout",
     "output_type": "stream",
     "text": [
      "[1, 2, 2, 2, 5]\n",
      "5\n"
     ]
    }
   ],
   "source": [
    "count.sort()\n",
    "print(count)\n",
    "print(count[-1])"
   ]
  },
  {
   "cell_type": "code",
   "execution_count": 13,
   "id": "30333088",
   "metadata": {},
   "outputs": [
    {
     "name": "stdout",
     "output_type": "stream",
     "text": [
      "[1, 2, 2, 2, 5]\n"
     ]
    }
   ],
   "source": [
    "count\n",
    "print(count)"
   ]
  },
  {
   "cell_type": "code",
   "execution_count": 15,
   "id": "b0ea8f7c",
   "metadata": {},
   "outputs": [
    {
     "name": "stdout",
     "output_type": "stream",
     "text": [
      "None\n"
     ]
    }
   ],
   "source": [
    "print(count.reverse())"
   ]
  },
  {
   "cell_type": "code",
   "execution_count": 19,
   "id": "9425d22a",
   "metadata": {},
   "outputs": [
    {
     "name": "stdout",
     "output_type": "stream",
     "text": [
      "guess: 3\n",
      "guess again!!!\n",
      "guess: 2\n",
      "guess again!!!\n",
      "guess: 10\n",
      "your guess was right\n",
      "game over\n"
     ]
    }
   ],
   "source": [
    "guess_here = 10\n",
    "guess_count = 0\n",
    "number_guess = 3\n",
    "while guess_count < number_guess:\n",
    "    guess = int(input('guess: '))\n",
    "    guess_count = guess_count + 1\n",
    "    if guess_here == guess:\n",
    "        print('your guess was right')\n",
    "    else:\n",
    "        print('guess again!!!')\n",
    "else:\n",
    "    print('game over')\n",
    "    \n"
   ]
  },
  {
   "cell_type": "code",
   "execution_count": 11,
   "id": "42f15afd",
   "metadata": {},
   "outputs": [
    {
     "name": "stdout",
     "output_type": "stream",
     "text": [
      "{'name': 'hello', 'age': 34, 'laptop': 'yes'}\n"
     ]
    }
   ],
   "source": [
    "tam = {\"name\": \"hello\", \"age\":34}\n",
    "tam[\"laptop\"] = \"yes\"\n",
    "print(tam)"
   ]
  },
  {
   "cell_type": "code",
   "execution_count": 5,
   "id": "9b9637f6",
   "metadata": {},
   "outputs": [
    {
     "name": "stdout",
     "output_type": "stream",
     "text": [
      "10\n",
      "11\n",
      "11\n",
      "12\n",
      "12\n",
      "13\n",
      "13\n",
      "14\n",
      "14\n",
      "15\n",
      "15\n",
      "16\n",
      "16\n",
      "17\n",
      "17\n",
      "18\n",
      "18\n",
      "19\n",
      "19\n",
      "20\n"
     ]
    }
   ],
   "source": [
    "i = 10\n",
    "while i < 20:\n",
    "    print(i)\n",
    "    i = i + 1\n",
    "    print(i)"
   ]
  },
  {
   "cell_type": "code",
   "execution_count": 4,
   "id": "cd615091",
   "metadata": {},
   "outputs": [
    {
     "name": "stdout",
     "output_type": "stream",
     "text": [
      "[{'name': 'tobi', 'scores': {'eng': 50, 'math': 70, 'econs': 95}, 'class': 'ss1', 'family': 'both'}, {'name': 'manuel', 'scores': {'eng': 44, 'math': 65, 'econs': 79}, 'class': 'ss2', 'family': 'single'}]\n"
     ]
    }
   ],
   "source": [
    "dict_data = [{\"name\":\"tobi\", \"scores\":{\"eng\":50,\n",
    "                                      \"math\":70, \n",
    "                                      \"econs\":95},\n",
    "            \"class\": \"ss1\",\n",
    "             \"family\": \"both\"},\n",
    "            {\"name\": \"manuel\", \"scores\":{\"eng\":44,\n",
    "                                          \"math\":65,\n",
    "                                         \"econs\":79},\n",
    "            \"class\": \"ss2\", \"family\":\"single\"}]\n",
    "print(dict_data)"
   ]
  },
  {
   "cell_type": "code",
   "execution_count": 16,
   "id": "750c296a",
   "metadata": {},
   "outputs": [
    {
     "name": "stdout",
     "output_type": "stream",
     "text": [
      "the sum is 165\n"
     ]
    }
   ],
   "source": [
    "n = 20\n",
    "sum = 0\n",
    "i = 10\n",
    "while i <= n:\n",
    "    sum = sum + i\n",
    "    i = i + 1\n",
    "print(\"the sum is\", sum)"
   ]
  },
  {
   "cell_type": "code",
   "execution_count": null,
   "id": "3b9e2ea4",
   "metadata": {},
   "outputs": [],
   "source": [
    "#1. find the average scores for each of the student\n",
    "#2. add that average scores inside the dictionary l.e :  \"average\": 50\n",
    "#3.write a query that will select all student in a. ss2 b. both\n",
    "#4. what is the modal for tobi"
   ]
  },
  {
   "cell_type": "code",
   "execution_count": 17,
   "id": "afa6dabc",
   "metadata": {},
   "outputs": [
    {
     "name": "stdout",
     "output_type": "stream",
     "text": [
      "[[50, 70, 95], [44, 65, 79]]\n"
     ]
    }
   ],
   "source": [
    "new_scores = []\n",
    "for i in dict_data:\n",
    "    arr = []\n",
    "    score_vals = i[\"scores\"]\n",
    "    for n, j in score_vals.items():\n",
    "        arr.append(j)\n",
    "    new_scores.append(arr)\n",
    "print(new_scores)"
   ]
  },
  {
   "cell_type": "code",
   "execution_count": null,
   "id": "f109e85a",
   "metadata": {},
   "outputs": [],
   "source": []
  }
 ],
 "metadata": {
  "kernelspec": {
   "display_name": "Python 3 (ipykernel)",
   "language": "python",
   "name": "python3"
  },
  "language_info": {
   "codemirror_mode": {
    "name": "ipython",
    "version": 3
   },
   "file_extension": ".py",
   "mimetype": "text/x-python",
   "name": "python",
   "nbconvert_exporter": "python",
   "pygments_lexer": "ipython3",
   "version": "3.9.7"
  }
 },
 "nbformat": 4,
 "nbformat_minor": 5
}
