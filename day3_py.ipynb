{
 "cells": [
  {
   "cell_type": "code",
   "execution_count": 1,
   "id": "afaa3355",
   "metadata": {},
   "outputs": [
    {
     "name": "stdout",
     "output_type": "stream",
     "text": [
      "[]\n",
      "[]\n",
      "[]\n",
      "[]\n",
      "[20]\n",
      "[20, 35.1]\n"
     ]
    }
   ],
   "source": [
    "y = [\"jude\", \"Thelma\", True , \"yes\", 20, 35.1]\n",
    "strng = []\n",
    "numbers = []\n",
    "booleans = []\n",
    "for i in y:\n",
    "    if type(i) == str:\n",
    "        strng.append(i)\n",
    "    elif type(i) == bool:\n",
    "        booleans.append(i)\n",
    "    else:\n",
    "        numbers.append(i)\n",
    "    print(numbers)"
   ]
  },
  {
   "cell_type": "code",
   "execution_count": 2,
   "id": "c57ea9d5",
   "metadata": {},
   "outputs": [
    {
     "name": "stdout",
     "output_type": "stream",
     "text": [
      "[0, 2, 4, 6, 8, 10, 12, 14, 16, 18, 20, 22, 24, 26, 28, 30, 32, 34, 36, 38, 40, 42, 44, 46, 48]\n"
     ]
    }
   ],
   "source": [
    "b = [i for i in range(0, 50, 2)]\n",
    "print(b)"
   ]
  },
  {
   "cell_type": "code",
   "execution_count": 3,
   "id": "00cf63a1",
   "metadata": {},
   "outputs": [
    {
     "name": "stdout",
     "output_type": "stream",
     "text": [
      "( 0, 0, 0) \n",
      "( 0, 0, 1) \n",
      "( 0, 0, 2) \n",
      "( 0, 0, 3) \n",
      "( 0, 1, 0) \n",
      "( 0, 1, 1) \n",
      "( 0, 1, 2) \n",
      "( 0, 1, 3) \n",
      "( 0, 2, 0) \n",
      "( 0, 2, 1) \n",
      "( 0, 2, 2) \n",
      "( 0, 2, 3) \n",
      "( 0, 3, 0) \n",
      "( 0, 3, 1) \n",
      "( 0, 3, 2) \n",
      "( 0, 3, 3) \n",
      "( 1, 0, 0) \n",
      "( 1, 0, 1) \n",
      "( 1, 0, 2) \n",
      "( 1, 0, 3) \n",
      "( 1, 1, 0) \n",
      "( 1, 1, 1) \n",
      "( 1, 1, 2) \n",
      "( 1, 1, 3) \n",
      "( 1, 2, 0) \n",
      "( 1, 2, 1) \n",
      "( 1, 2, 2) \n",
      "( 1, 2, 3) \n",
      "( 1, 3, 0) \n",
      "( 1, 3, 1) \n",
      "( 1, 3, 2) \n",
      "( 1, 3, 3) \n",
      "( 2, 0, 0) \n",
      "( 2, 0, 1) \n",
      "( 2, 0, 2) \n",
      "( 2, 0, 3) \n",
      "( 2, 1, 0) \n",
      "( 2, 1, 1) \n",
      "( 2, 1, 2) \n",
      "( 2, 1, 3) \n",
      "( 2, 2, 0) \n",
      "( 2, 2, 1) \n",
      "( 2, 2, 2) \n",
      "( 2, 2, 3) \n",
      "( 2, 3, 0) \n",
      "( 2, 3, 1) \n",
      "( 2, 3, 2) \n",
      "( 2, 3, 3) \n",
      "( 3, 0, 0) \n",
      "( 3, 0, 1) \n",
      "( 3, 0, 2) \n",
      "( 3, 0, 3) \n",
      "( 3, 1, 0) \n",
      "( 3, 1, 1) \n",
      "( 3, 1, 2) \n",
      "( 3, 1, 3) \n",
      "( 3, 2, 0) \n",
      "( 3, 2, 1) \n",
      "( 3, 2, 2) \n",
      "( 3, 2, 3) \n",
      "( 3, 3, 0) \n",
      "( 3, 3, 1) \n",
      "( 3, 3, 2) \n",
      "( 3, 3, 3) \n",
      "\n",
      "x\n",
      "xx\n",
      "xxx\n",
      "xxxx\n"
     ]
    }
   ],
   "source": [
    "for x in range (4):\n",
    "    for y in range(4):\n",
    "        for z in range(4):\n",
    "             print(f\"( {x}, {y}, {z}) \")\n",
    "for t in range(5):\n",
    "     print(\"x\"* t )"
   ]
  },
  {
   "cell_type": "code",
   "execution_count": 4,
   "id": "b3b91622",
   "metadata": {},
   "outputs": [
    {
     "name": "stdout",
     "output_type": "stream",
     "text": [
      "[1.0, 1.7320508075688772, 2.23606797749979, 2.6457513110645907, 3.0, 3.3166247903554, 3.605551275463989, 3.872983346207417, 4.123105625617661, 4.358898943540674, 4.58257569495584, 4.795831523312719, 5.0, 5.196152422706632, 5.385164807134504, 5.5677643628300215, 5.744562646538029, 5.916079783099616, 6.082762530298219, 6.244997998398398, 6.4031242374328485, 6.557438524302, 6.708203932499369, 6.855654600401044, 7.0]\n"
     ]
    }
   ],
   "source": [
    "vals = []\n",
    "for i in range(1, 50+1):\n",
    "    if i%2 != 0:\n",
    "        a = i**(1/2)\n",
    "        vals.append(a)\n",
    "print(vals)"
   ]
  },
  {
   "cell_type": "code",
   "execution_count": 5,
   "id": "7e9947f8",
   "metadata": {},
   "outputs": [
    {
     "name": "stdout",
     "output_type": "stream",
     "text": [
      "[1.0, 1.7320508075688772, 2.23606797749979, 2.6457513110645907, 3.0, 3.3166247903554, 3.605551275463989, 3.872983346207417, 4.123105625617661, 4.358898943540674, 4.58257569495584, 4.795831523312719, 5.0, 5.196152422706632, 5.385164807134504, 5.5677643628300215, 5.744562646538029, 5.916079783099616, 6.082762530298219, 6.244997998398398, 6.4031242374328485, 6.557438524302, 6.708203932499369, 6.855654600401044, 7.0]\n"
     ]
    }
   ],
   "source": [
    "number_vals = [(i**(1/2)) for i in range(1, 50+1) if i%2!=0]\n",
    "print(number_vals)"
   ]
  },
  {
   "cell_type": "code",
   "execution_count": 6,
   "id": "5a124326",
   "metadata": {},
   "outputs": [
    {
     "name": "stdout",
     "output_type": "stream",
     "text": [
      "4.7172\n"
     ]
    }
   ],
   "source": [
    "sum_val = 0\n",
    "for i in number_vals:\n",
    "    sum_val = sum_val + i\n",
    "total_sum = round((sum_val), 2)\n",
    "mean = total_sum/len(number_vals)\n",
    "print(mean)"
   ]
  },
  {
   "cell_type": "code",
   "execution_count": 7,
   "id": "3126ae51",
   "metadata": {},
   "outputs": [
    {
     "name": "stdout",
     "output_type": "stream",
     "text": [
      "4\n"
     ]
    }
   ],
   "source": [
    "vals = [10, 12.5, 8, 9.5, 11.5, 7, 4]\n",
    "pos = vals[0]\n",
    "for i in vals:\n",
    "    if i < pos:\n",
    "        pos = i\n",
    "print(pos)"
   ]
  },
  {
   "cell_type": "code",
   "execution_count": 8,
   "id": "d1ce8fca",
   "metadata": {},
   "outputs": [
    {
     "name": "stdout",
     "output_type": "stream",
     "text": [
      "[5, 6, 8, 9]\n"
     ]
    }
   ],
   "source": [
    "x = [10, 15, 20, 30]\n",
    "y = [15, 21, 28, 39]\n",
    "diff = []\n",
    "if len(x) == len(y):\n",
    "    for i in range (0, len(y)):\n",
    "        diff_val = y[i] - x[i]\n",
    "        diff.append(diff_val)\n",
    "    print(diff)\n",
    "else:\n",
    "    print(False)"
   ]
  },
  {
   "cell_type": "code",
   "execution_count": 9,
   "id": "e0ba36e5",
   "metadata": {},
   "outputs": [
    {
     "name": "stdout",
     "output_type": "stream",
     "text": [
      "4\n"
     ]
    }
   ],
   "source": [
    "len =len(x)\n",
    "print(len)"
   ]
  },
  {
   "cell_type": "code",
   "execution_count": 11,
   "id": "65053dd8",
   "metadata": {},
   "outputs": [
    {
     "name": "stdout",
     "output_type": "stream",
     "text": [
      "75\n"
     ]
    }
   ],
   "source": [
    "#def sum(x):\n",
    "total = 0\n",
    "for i in x:\n",
    "    total = total + i\n",
    "print(total)\n"
   ]
  },
  {
   "cell_type": "code",
   "execution_count": 12,
   "id": "de152407",
   "metadata": {},
   "outputs": [
    {
     "name": "stdout",
     "output_type": "stream",
     "text": [
      "18.75\n"
     ]
    }
   ],
   "source": [
    "mean = total/len\n",
    "print(mean)"
   ]
  },
  {
   "cell_type": "code",
   "execution_count": 13,
   "id": "f8826145",
   "metadata": {},
   "outputs": [
    {
     "name": "stdout",
     "output_type": "stream",
     "text": [
      "[-8.75, -3.75, 1.25, 11.25]\n"
     ]
    }
   ],
   "source": [
    "x_s=[]\n",
    "for i in x:\n",
    "    xa = i - mean\n",
    "    x_s.append(xa)\n",
    "print(x_s)"
   ]
  },
  {
   "cell_type": "code",
   "execution_count": 14,
   "id": "da01f51c",
   "metadata": {},
   "outputs": [
    {
     "name": "stdout",
     "output_type": "stream",
     "text": [
      "[76.5625, 14.0625, 1.5625, 126.5625]\n"
     ]
    }
   ],
   "source": [
    "x_p=[]\n",
    "for i in x:\n",
    "    xb = (i - mean)**2\n",
    "    x_p.append(xb)\n",
    "print(x_p)"
   ]
  },
  {
   "cell_type": "code",
   "execution_count": 15,
   "id": "f4ec7e4c",
   "metadata": {},
   "outputs": [],
   "source": [
    "sum_p = sum(x_p)"
   ]
  },
  {
   "cell_type": "code",
   "execution_count": 16,
   "id": "10fc2d08",
   "metadata": {},
   "outputs": [
    {
     "name": "stdout",
     "output_type": "stream",
     "text": [
      "54.6875\n"
     ]
    }
   ],
   "source": [
    "root = (sum_p/len)\n",
    "print(root)"
   ]
  },
  {
   "cell_type": "code",
   "execution_count": 17,
   "id": "f95d3490",
   "metadata": {},
   "outputs": [
    {
     "name": "stdout",
     "output_type": "stream",
     "text": [
      "7.39509972887452\n"
     ]
    }
   ],
   "source": [
    "stan= (root)**(1/2)\n",
    "print(stan)"
   ]
  },
  {
   "cell_type": "code",
   "execution_count": 18,
   "id": "78a9b99d",
   "metadata": {},
   "outputs": [
    {
     "name": "stdout",
     "output_type": "stream",
     "text": [
      "['221.124.127.50']\n"
     ]
    }
   ],
   "source": [
    "ip_addr = [\"192.168.120.15\", \"221.124.127.50\", \"101.124.56.12\"]\n",
    "lst = []\n",
    "for i in ip_addr:\n",
    "    #print(i.split(\".\"))\n",
    "    a = int(i.split(\".\")[-1])\n",
    "    if a >= 30 and a<= 50:\n",
    "        lst.append(i)\n",
    "print(lst)"
   ]
  },
  {
   "cell_type": "code",
   "execution_count": 26,
   "id": "73b87c6c",
   "metadata": {},
   "outputs": [
    {
     "name": "stdout",
     "output_type": "stream",
     "text": [
      "[[1, 2, 3], [4, 5, 6], [7, 8, 9]]\n"
     ]
    }
   ],
   "source": [
    "m = [[1, 2, 3],\n",
    "    [4, 5, 6],\n",
    "    [7, 8, 9]]\n",
    "print(m)\n",
    "\n",
    "    "
   ]
  },
  {
   "cell_type": "code",
   "execution_count": 20,
   "id": "2e22e68b",
   "metadata": {},
   "outputs": [
    {
     "name": "stdout",
     "output_type": "stream",
     "text": [
      "4\n"
     ]
    }
   ],
   "source": [
    "aa = []\n",
    "for i in m:\n",
    "    aa.append(i[0])\n",
    "print(aa[1])\n",
    "    "
   ]
  },
  {
   "cell_type": "code",
   "execution_count": 21,
   "id": "538fcf2a",
   "metadata": {},
   "outputs": [
    {
     "name": "stdout",
     "output_type": "stream",
     "text": [
      "[1, 2, 3]\n",
      "[4, 5, 6]\n",
      "[7, 8, 9]\n"
     ]
    }
   ],
   "source": [
    "for i in m:\n",
    "    print(i)"
   ]
  },
  {
   "cell_type": "code",
   "execution_count": 22,
   "id": "adf961e3",
   "metadata": {},
   "outputs": [
    {
     "name": "stdout",
     "output_type": "stream",
     "text": [
      "jacks\n",
      "susan\n",
      "jasmine\n"
     ]
    }
   ],
   "source": [
    "a = [\"ben\", \"bode\", \"phil\", \"tope\"]\n",
    "b = [\"phil\", \"jacks\", \"susan\", \"bode\", \"jasmine\"]\n",
    "\n",
    "for i in b:\n",
    "    if i not in a:\n",
    "        print(i)"
   ]
  },
  {
   "cell_type": "code",
   "execution_count": 28,
   "id": "b9db243b",
   "metadata": {},
   "outputs": [
    {
     "name": "stdout",
     "output_type": "stream",
     "text": [
      "[[1, 2, 3], [4, 5, 6], [7, 8, 9]]\n"
     ]
    }
   ],
   "source": [
    "print(m)"
   ]
  },
  {
   "cell_type": "code",
   "execution_count": 29,
   "id": "9cb4f4ba",
   "metadata": {},
   "outputs": [
    {
     "ename": "TypeError",
     "evalue": "'int' object is not callable",
     "output_type": "error",
     "traceback": [
      "\u001b[1;31m---------------------------------------------------------------------------\u001b[0m",
      "\u001b[1;31mTypeError\u001b[0m                                 Traceback (most recent call last)",
      "\u001b[1;32m~\\AppData\\Local\\Temp/ipykernel_3144/3297978855.py\u001b[0m in \u001b[0;36m<module>\u001b[1;34m\u001b[0m\n\u001b[1;32m----> 1\u001b[1;33m \u001b[1;32mfor\u001b[0m \u001b[0mi\u001b[0m \u001b[1;32min\u001b[0m \u001b[0mrange\u001b[0m\u001b[1;33m(\u001b[0m\u001b[1;36m0\u001b[0m\u001b[1;33m,\u001b[0m \u001b[0mlen\u001b[0m\u001b[1;33m(\u001b[0m\u001b[0mm\u001b[0m\u001b[1;33m)\u001b[0m\u001b[1;33m)\u001b[0m\u001b[1;33m:\u001b[0m\u001b[1;33m\u001b[0m\u001b[1;33m\u001b[0m\u001b[0m\n\u001b[0m\u001b[0;32m      2\u001b[0m     \u001b[0mprint\u001b[0m\u001b[1;33m(\u001b[0m\u001b[0mm\u001b[0m\u001b[1;33m[\u001b[0m\u001b[0mi\u001b[0m\u001b[1;33m]\u001b[0m\u001b[1;33m[\u001b[0m\u001b[0mi\u001b[0m\u001b[1;33m]\u001b[0m\u001b[1;33m)\u001b[0m\u001b[1;33m\u001b[0m\u001b[1;33m\u001b[0m\u001b[0m\n",
      "\u001b[1;31mTypeError\u001b[0m: 'int' object is not callable"
     ]
    }
   ],
   "source": [
    "for i in range(0, len(m)):\n",
    "    print(m[i][i])"
   ]
  },
  {
   "cell_type": "code",
   "execution_count": 30,
   "id": "c0ab13d6",
   "metadata": {},
   "outputs": [
    {
     "ename": "TypeError",
     "evalue": "'type' object is not subscriptable",
     "output_type": "error",
     "traceback": [
      "\u001b[1;31m---------------------------------------------------------------------------\u001b[0m",
      "\u001b[1;31mTypeError\u001b[0m                                 Traceback (most recent call last)",
      "\u001b[1;32m~\\AppData\\Local\\Temp/ipykernel_3144/25973072.py\u001b[0m in \u001b[0;36m<module>\u001b[1;34m\u001b[0m\n\u001b[1;32m----> 1\u001b[1;33m \u001b[0mlen\u001b[0m\u001b[1;33m(\u001b[0m\u001b[0mint\u001b[0m\u001b[1;33m[\u001b[0m\u001b[0mm\u001b[0m\u001b[1;33m]\u001b[0m\u001b[1;33m)\u001b[0m\u001b[1;33m\u001b[0m\u001b[1;33m\u001b[0m\u001b[0m\n\u001b[0m",
      "\u001b[1;31mTypeError\u001b[0m: 'type' object is not subscriptable"
     ]
    }
   ],
   "source": [
    "len(m)"
   ]
  },
  {
   "cell_type": "code",
   "execution_count": null,
   "id": "a2c8cbfa",
   "metadata": {},
   "outputs": [],
   "source": [
    "a = [1,3,5,9,7,10]"
   ]
  },
  {
   "cell_type": "code",
   "execution_count": 1,
   "id": "49d47f22",
   "metadata": {},
   "outputs": [
    {
     "name": "stdout",
     "output_type": "stream",
     "text": [
      "[4]\n",
      "[4, 6]\n",
      "[4, 6, 7]\n",
      "[4, 6, 7, 9]\n",
      "[4, 6, 7, 9, 2]\n",
      "[4, 6, 7, 9, 2, 5]\n",
      "[4, 6, 7, 9, 2, 5, 6]\n",
      "[4, 6, 7, 9, 2, 5, 6, 4]\n",
      "[4, 6, 7, 9, 2, 5, 6, 4, 7]\n",
      "[4, 6, 8, 7, 9, 2, 5, 6, 4, 7]\n"
     ]
    },
    {
     "data": {
      "text/plain": [
       "10"
      ]
     },
     "execution_count": 1,
     "metadata": {},
     "output_type": "execute_result"
    }
   ],
   "source": [
    "number = [4, 6, 7, 9, 2, 5, 6, 4, 7]\n",
    "unique =[]\n",
    "for numbers in number:\n",
    "    if number not in unique:\n",
    "            unique.append(numbers)\n",
    "            print(unique)\n",
    "            \n",
    "number.insert(2,8)\n",
    "print(number)\n",
    "\n",
    "len(number)\n",
    "\n"
   ]
  },
  {
   "cell_type": "code",
   "execution_count": 36,
   "id": "b87db7ed",
   "metadata": {},
   "outputs": [
    {
     "ename": "SyntaxError",
     "evalue": "invalid syntax (Temp/ipykernel_3144/2281911042.py, line 5)",
     "output_type": "error",
     "traceback": [
      "\u001b[1;36m  File \u001b[1;32m\"C:\\Users\\USER\\AppData\\Local\\Temp/ipykernel_3144/2281911042.py\"\u001b[1;36m, line \u001b[1;32m5\u001b[0m\n\u001b[1;33m    for n in range\u001b[0m\n\u001b[1;37m                  ^\u001b[0m\n\u001b[1;31mSyntaxError\u001b[0m\u001b[1;31m:\u001b[0m invalid syntax\n"
     ]
    }
   ],
   "source": [
    "for i in range(0, len(m)):\n",
    "    if i != len(m) -1:\n",
    "        print(m[i][0])\n",
    "    else:\n",
    "        for n in range"
   ]
  },
  {
   "cell_type": "code",
   "execution_count": 35,
   "id": "d8b44fd2",
   "metadata": {},
   "outputs": [
    {
     "name": "stdout",
     "output_type": "stream",
     "text": [
      "1\n",
      "2\n",
      "3\n",
      "4\n",
      "5\n"
     ]
    }
   ],
   "source": [
    "for i in (1,2,3,4,5):\n",
    "    print(i)"
   ]
  },
  {
   "cell_type": "code",
   "execution_count": null,
   "id": "78b70bbe",
   "metadata": {},
   "outputs": [],
   "source": []
  },
  {
   "cell_type": "code",
   "execution_count": null,
   "id": "71009db8",
   "metadata": {},
   "outputs": [],
   "source": []
  }
 ],
 "metadata": {
  "kernelspec": {
   "display_name": "Python 3 (ipykernel)",
   "language": "python",
   "name": "python3"
  },
  "language_info": {
   "codemirror_mode": {
    "name": "ipython",
    "version": 3
   },
   "file_extension": ".py",
   "mimetype": "text/x-python",
   "name": "python",
   "nbconvert_exporter": "python",
   "pygments_lexer": "ipython3",
   "version": "3.9.7"
  }
 },
 "nbformat": 4,
 "nbformat_minor": 5
}
