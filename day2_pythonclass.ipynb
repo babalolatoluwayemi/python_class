{
 "cells": [
  {
   "cell_type": "code",
   "execution_count": 1,
   "id": "cd1839cb",
   "metadata": {},
   "outputs": [
    {
     "name": "stdout",
     "output_type": "stream",
     "text": [
      "ami\n"
     ]
    }
   ],
   "source": [
    "x = \"amie\"\n",
    "print(x[0:-1])"
   ]
  },
  {
   "cell_type": "code",
   "execution_count": 2,
   "id": "9ff436be",
   "metadata": {},
   "outputs": [
    {
     "data": {
      "text/plain": [
       "2"
      ]
     },
     "execution_count": 2,
     "metadata": {},
     "output_type": "execute_result"
    }
   ],
   "source": [
    "x.index(\"i\")"
   ]
  },
  {
   "cell_type": "code",
   "execution_count": 3,
   "id": "8278858e",
   "metadata": {},
   "outputs": [
    {
     "name": "stdout",
     "output_type": "stream",
     "text": [
      "['bola']\n"
     ]
    }
   ],
   "source": [
    "p = [\"amie\", \"janet\", \"suas\", \"ayo\", \"bola\"]\n",
    "index_val = p.index(\"ayo\")\n",
    "y_val = p[index_val+1:]\n",
    "print(y_val)"
   ]
  },
  {
   "cell_type": "code",
   "execution_count": 5,
   "id": "b74c47b0",
   "metadata": {},
   "outputs": [
    {
     "name": "stdout",
     "output_type": "stream",
     "text": [
      "['amie', 'janet', 'suas']\n"
     ]
    }
   ],
   "source": [
    "z_val = p[:index_val]\n",
    "print(z_val)"
   ]
  },
  {
   "cell_type": "code",
   "execution_count": 10,
   "id": "067bd103",
   "metadata": {},
   "outputs": [
    {
     "name": "stdout",
     "output_type": "stream",
     "text": [
      "funmi and mitchel\n"
     ]
    }
   ],
   "source": [
    "d = [\"juan\", \"kate\", \"mitchel\", \"funmi\", \"angel\", \"ada\"]\n",
    "count_avg= int(len(d)/2)\n",
    "new_cont_avg = count_avg - 1\n",
    "\n",
    "if len(d)%2 != 0:\n",
    "    print(d[count_avg])\n",
    "    \n",
    "else: \n",
    "    med_val = d[count_avg]\n",
    "    val_med = d[new_cont_avg]\n",
    "    print(f\"{med_val} and {val_med}\")\n",
    "    "
   ]
  },
  {
   "cell_type": "code",
   "execution_count": 11,
   "id": "d49aa0c9",
   "metadata": {},
   "outputs": [
    {
     "name": "stdout",
     "output_type": "stream",
     "text": [
      "[3, 6, 'jane', 'bella', 'daniel']\n"
     ]
    }
   ],
   "source": [
    "arr1 = [3, 6, \"jane\", \"bella\"]\n",
    "arr1.append(\"daniel\")\n",
    "print(arr1)"
   ]
  },
  {
   "cell_type": "code",
   "execution_count": 12,
   "id": "7a9c3562",
   "metadata": {},
   "outputs": [
    {
     "name": "stdout",
     "output_type": "stream",
     "text": [
      "[3, 6, 'jane', 'bella', ['tola', 'madu']]\n"
     ]
    }
   ],
   "source": [
    "arr1 = [3, 6, \"jane\", \"bella\"]\n",
    "arr2 = [\"tola\", \"madu\"]\n",
    "arr1.append(arr2)\n",
    "print(arr1)"
   ]
  },
  {
   "cell_type": "code",
   "execution_count": 16,
   "id": "9302aea1",
   "metadata": {},
   "outputs": [
    {
     "name": "stdout",
     "output_type": "stream",
     "text": [
      "[3, 6, 'jane', 'bella', 'tola', 'madu']\n"
     ]
    }
   ],
   "source": [
    "arr1 = [3, 6, \"jane\", \"bella\"]\n",
    "arr2 = [\"tola\", \"madu\"]\n",
    "print(arr1 + arr2)"
   ]
  },
  {
   "cell_type": "code",
   "execution_count": 17,
   "id": "762930c9",
   "metadata": {},
   "outputs": [
    {
     "name": "stdout",
     "output_type": "stream",
     "text": [
      "[3, 6, 'jane', 'bella', 'tola', 'madu']\n"
     ]
    }
   ],
   "source": [
    "arr1 = [3, 6, \"jane\", \"bella\"]\n",
    "arr2 = [\"tola\", \"madu\"]\n",
    "for i in arr2:\n",
    "    arr1.append(i)\n",
    "print(arr1)"
   ]
  },
  {
   "cell_type": "code",
   "execution_count": 18,
   "id": "bcee66e2",
   "metadata": {},
   "outputs": [
    {
     "name": "stdout",
     "output_type": "stream",
     "text": [
      "['rihanna']\n"
     ]
    }
   ],
   "source": [
    "r_name =  []\n",
    "array1 = [\"temi\", \"tiwa\", \"tems\", \"rihanna\"]\n",
    "for i in array1:\n",
    "    if i[0] ==\"r\":\n",
    "        r_name.append(i)\n",
    "print(r_name)"
   ]
  },
  {
   "cell_type": "code",
   "execution_count": 31,
   "id": "cd0ec12b",
   "metadata": {},
   "outputs": [
    {
     "name": "stdout",
     "output_type": "stream",
     "text": [
      "['Jacob', 'Obi', 'Moses', 'Victor']\n"
     ]
    }
   ],
   "source": [
    "array_name = [\"jacob\", \"obi\", \"moses\", \"victor\"]\n",
    "new_surname = []\n",
    "for i in array_name:\n",
    "    cap_names = i[0].upper() + i[1:]\n",
    "    new_surname.append(cap_names)\n",
    "print(new_surname)"
   ]
  },
  {
   "cell_type": "code",
   "execution_count": 24,
   "id": "0a2616a7",
   "metadata": {},
   "outputs": [
    {
     "name": "stdout",
     "output_type": "stream",
     "text": [
      "Jacob temi\n",
      "Obi tiwa\n",
      "Moses tems\n",
      "Victor rihanna\n"
     ]
    }
   ],
   "source": [
    "for i in range(0, len(array1)):\n",
    "    fullnames = f\"{new_surname[i]} {array1[i]}\"\n",
    "    print(fullnames)"
   ]
  },
  {
   "cell_type": "code",
   "execution_count": 25,
   "id": "2b384cc5",
   "metadata": {},
   "outputs": [
    {
     "name": "stdout",
     "output_type": "stream",
     "text": [
      "hannah\n",
      "shalom\n",
      "design\n"
     ]
    }
   ],
   "source": [
    "ele = [\"hannah\", \"shalom\", 10, 5, \"design\"]\n",
    "for i in ele:\n",
    "    test = isinstance(i, str)\n",
    "    if test == True:\n",
    "        print(i)"
   ]
  },
  {
   "cell_type": "code",
   "execution_count": 26,
   "id": "667dbb6c",
   "metadata": {},
   "outputs": [
    {
     "data": {
      "text/plain": [
       "str"
      ]
     },
     "execution_count": 26,
     "metadata": {},
     "output_type": "execute_result"
    }
   ],
   "source": [
    "type(\"hannah\")"
   ]
  },
  {
   "cell_type": "code",
   "execution_count": 29,
   "id": "4207882f",
   "metadata": {},
   "outputs": [
    {
     "name": "stdout",
     "output_type": "stream",
     "text": [
      "10\n",
      "5\n"
     ]
    }
   ],
   "source": [
    "for i in ele:\n",
    "    p = type(i)\n",
    "    if p == int:\n",
    "        print(i)"
   ]
  },
  {
   "cell_type": "code",
   "execution_count": 30,
   "id": "63f6e00c",
   "metadata": {},
   "outputs": [
    {
     "name": "stdout",
     "output_type": "stream",
     "text": [
      "no they are not all strings!!!!!\n"
     ]
    }
   ],
   "source": [
    "new_list = []\n",
    "d = [\"juan\", 10, \"mitchel\", \"funmi\", \"angel\", \"ada\", \"lola\", \"joy\"]\n",
    "for i in d:\n",
    "    k = type(i)\n",
    "    if k == str:\n",
    "        new_list.append(i)\n",
    "        \n",
    "if len (new_list) == len(d):\n",
    "    print(\"yes they are all strings!!\")\n",
    "else:\n",
    "    print(\"no they are not all strings!!!!!\")"
   ]
  }
 ],
 "metadata": {
  "kernelspec": {
   "display_name": "Python 3 (ipykernel)",
   "language": "python",
   "name": "python3"
  },
  "language_info": {
   "codemirror_mode": {
    "name": "ipython",
    "version": 3
   },
   "file_extension": ".py",
   "mimetype": "text/x-python",
   "name": "python",
   "nbconvert_exporter": "python",
   "pygments_lexer": "ipython3",
   "version": "3.9.7"
  }
 },
 "nbformat": 4,
 "nbformat_minor": 5
}
