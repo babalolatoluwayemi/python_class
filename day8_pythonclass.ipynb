{
 "cells": [
  {
   "cell_type": "markdown",
   "id": "23454eea",
   "metadata": {},
   "source": [
    " # BIKESHARE ANALYSIS"
   ]
  },
  {
   "cell_type": "code",
   "execution_count": 3,
   "id": "31a28ca4",
   "metadata": {},
   "outputs": [
    {
     "name": "stdout",
     "output_type": "stream",
     "text": [
      "['accounts.csv', 'anglophone.csv', 'Brewery_data.csv', 'chicago.csv', 'Demo SQL Business Case.pdf', 'diabetes.csv', 'francophone.csv', 'Iris.csv', 'new_york_city.csv', 'Online Retail.xlsx', 'orders.csv', 'region.csv', 'sales_reps.csv', 'tmdb-movies.csv', 'usa_gov.txt', 'washington.csv', 'web_events.csv', 'yellow_tripdata_2015-01.csv', 'yellow_tripdata_2016-01.csv', 'yellow_tripdata_2016-02.csv', 'yellow_tripdata_2016-03.csv']\n"
     ]
    }
   ],
   "source": [
    "import os\n",
    "import pandas as pd\n",
    "file = os.listdir(\"C:/Users/USER/Documents/data_analysis/datas\")\n",
    "print(file)"
   ]
  },
  {
   "cell_type": "code",
   "execution_count": 4,
   "id": "db0a01ea",
   "metadata": {},
   "outputs": [],
   "source": [
    "city_data = {\n",
    "    'chicago' : \"C:/Users/USER/Documents/data_analysis/datas/chicago.csv\", \n",
    "    'new_york' : \"C:/Users/USER/Documents/data_analysis/datas/new_york_city.csv\",\n",
    "    \"washinton\" : \"C:/Users/USER/Documents/data_analysis/datas/washington.csv\"\n",
    "}"
   ]
  },
  {
   "cell_type": "code",
   "execution_count": 6,
   "id": "2c3e17a0",
   "metadata": {},
   "outputs": [
    {
     "name": "stdout",
     "output_type": "stream",
     "text": [
      "Enter city data: chicago \n"
     ]
    },
    {
     "ename": "KeyError",
     "evalue": "'chicago '",
     "output_type": "error",
     "traceback": [
      "\u001b[1;31m---------------------------------------------------------------------------\u001b[0m",
      "\u001b[1;31mKeyError\u001b[0m                                  Traceback (most recent call last)",
      "\u001b[1;32m~\\AppData\\Local\\Temp/ipykernel_10624/3833935562.py\u001b[0m in \u001b[0;36m<module>\u001b[1;34m\u001b[0m\n\u001b[0;32m      5\u001b[0m \u001b[1;33m\u001b[0m\u001b[0m\n\u001b[0;32m      6\u001b[0m \u001b[1;33m\u001b[0m\u001b[0m\n\u001b[1;32m----> 7\u001b[1;33m \u001b[0mget_city\u001b[0m \u001b[1;33m=\u001b[0m \u001b[0mget_city_data\u001b[0m\u001b[1;33m(\u001b[0m\u001b[1;33m)\u001b[0m\u001b[1;33m\u001b[0m\u001b[1;33m\u001b[0m\u001b[0m\n\u001b[0m",
      "\u001b[1;32m~\\AppData\\Local\\Temp/ipykernel_10624/3833935562.py\u001b[0m in \u001b[0;36mget_city_data\u001b[1;34m()\u001b[0m\n\u001b[0;32m      1\u001b[0m \u001b[1;32mdef\u001b[0m \u001b[0mget_city_data\u001b[0m\u001b[1;33m(\u001b[0m\u001b[1;33m)\u001b[0m\u001b[1;33m:\u001b[0m\u001b[1;33m\u001b[0m\u001b[1;33m\u001b[0m\u001b[0m\n\u001b[0;32m      2\u001b[0m     \u001b[0mcity\u001b[0m \u001b[1;33m=\u001b[0m \u001b[0minput\u001b[0m\u001b[1;33m(\u001b[0m\u001b[1;34m\"Enter city data: \"\u001b[0m\u001b[1;33m)\u001b[0m\u001b[1;33m.\u001b[0m\u001b[0mlower\u001b[0m\u001b[1;33m(\u001b[0m\u001b[1;33m)\u001b[0m\u001b[1;33m\u001b[0m\u001b[1;33m\u001b[0m\u001b[0m\n\u001b[1;32m----> 3\u001b[1;33m     \u001b[0mdf\u001b[0m \u001b[1;33m=\u001b[0m \u001b[0mpd\u001b[0m\u001b[1;33m.\u001b[0m\u001b[0mread_csv\u001b[0m\u001b[1;33m(\u001b[0m\u001b[0mcity_data\u001b[0m\u001b[1;33m[\u001b[0m\u001b[0mcity\u001b[0m\u001b[1;33m]\u001b[0m\u001b[1;33m)\u001b[0m\u001b[1;33m\u001b[0m\u001b[1;33m\u001b[0m\u001b[0m\n\u001b[0m\u001b[0;32m      4\u001b[0m     \u001b[1;32mreturn\u001b[0m \u001b[0mdf\u001b[0m\u001b[1;33m\u001b[0m\u001b[1;33m\u001b[0m\u001b[0m\n\u001b[0;32m      5\u001b[0m \u001b[1;33m\u001b[0m\u001b[0m\n",
      "\u001b[1;31mKeyError\u001b[0m: 'chicago '"
     ]
    }
   ],
   "source": [
    "def get_city_data():\n",
    "    city = input(\"Enter city data: \").lower()\n",
    "    df = pd.read_csv(city_data[city])\n",
    "    return df\n",
    "\n",
    "\n",
    "get_city = get_city_data()"
   ]
  },
  {
   "cell_type": "code",
   "execution_count": 5,
   "id": "fbc105e8",
   "metadata": {},
   "outputs": [
    {
     "name": "stdout",
     "output_type": "stream",
     "text": [
      "enter city data: chicago \n"
     ]
    },
    {
     "ename": "KeyError",
     "evalue": "'chicago '",
     "output_type": "error",
     "traceback": [
      "\u001b[1;31m---------------------------------------------------------------------------\u001b[0m",
      "\u001b[1;31mKeyError\u001b[0m                                  Traceback (most recent call last)",
      "\u001b[1;32m~\\AppData\\Local\\Temp/ipykernel_10624/63939061.py\u001b[0m in \u001b[0;36m<module>\u001b[1;34m\u001b[0m\n\u001b[0;32m     12\u001b[0m     \u001b[1;32mreturn\u001b[0m \u001b[0mdf\u001b[0m\u001b[1;33m.\u001b[0m\u001b[0mhead\u001b[0m\u001b[1;33m(\u001b[0m\u001b[1;33m)\u001b[0m\u001b[1;33m\u001b[0m\u001b[1;33m\u001b[0m\u001b[0m\n\u001b[0;32m     13\u001b[0m \u001b[1;33m\u001b[0m\u001b[0m\n\u001b[1;32m---> 14\u001b[1;33m \u001b[0mget_city\u001b[0m \u001b[1;33m=\u001b[0m \u001b[0mget_city_data\u001b[0m\u001b[1;33m(\u001b[0m\u001b[1;33m)\u001b[0m\u001b[1;33m\u001b[0m\u001b[1;33m\u001b[0m\u001b[0m\n\u001b[0m\u001b[0;32m     15\u001b[0m \u001b[0mclean_data\u001b[0m \u001b[1;33m=\u001b[0m \u001b[0mclean_data\u001b[0m\u001b[1;33m(\u001b[0m\u001b[0mget_city\u001b[0m\u001b[1;33m)\u001b[0m\u001b[1;33m\u001b[0m\u001b[1;33m\u001b[0m\u001b[0m\n\u001b[0;32m     16\u001b[0m \u001b[0mclean_data\u001b[0m\u001b[1;33m\u001b[0m\u001b[1;33m\u001b[0m\u001b[0m\n",
      "\u001b[1;32m~\\AppData\\Local\\Temp/ipykernel_10624/63939061.py\u001b[0m in \u001b[0;36mget_city_data\u001b[1;34m()\u001b[0m\n\u001b[0;32m      1\u001b[0m \u001b[1;32mdef\u001b[0m \u001b[0mget_city_data\u001b[0m\u001b[1;33m(\u001b[0m\u001b[1;33m)\u001b[0m\u001b[1;33m:\u001b[0m\u001b[1;33m\u001b[0m\u001b[1;33m\u001b[0m\u001b[0m\n\u001b[0;32m      2\u001b[0m     \u001b[0mcity\u001b[0m \u001b[1;33m=\u001b[0m \u001b[0minput\u001b[0m\u001b[1;33m(\u001b[0m\u001b[1;34m\"enter city data: \"\u001b[0m\u001b[1;33m)\u001b[0m\u001b[1;33m.\u001b[0m\u001b[0mlower\u001b[0m\u001b[1;33m(\u001b[0m\u001b[1;33m)\u001b[0m\u001b[1;33m\u001b[0m\u001b[1;33m\u001b[0m\u001b[0m\n\u001b[1;32m----> 3\u001b[1;33m     \u001b[0mdf\u001b[0m \u001b[1;33m=\u001b[0m \u001b[0mpd\u001b[0m\u001b[1;33m.\u001b[0m\u001b[0mread_csv\u001b[0m\u001b[1;33m(\u001b[0m\u001b[0mcity_data\u001b[0m\u001b[1;33m[\u001b[0m\u001b[0mcity\u001b[0m\u001b[1;33m]\u001b[0m\u001b[1;33m)\u001b[0m\u001b[1;33m\u001b[0m\u001b[1;33m\u001b[0m\u001b[0m\n\u001b[0m\u001b[0;32m      4\u001b[0m     \u001b[1;32mreturn\u001b[0m \u001b[0mdf\u001b[0m\u001b[1;33m\u001b[0m\u001b[1;33m\u001b[0m\u001b[0m\n\u001b[0;32m      5\u001b[0m \u001b[1;33m\u001b[0m\u001b[0m\n",
      "\u001b[1;31mKeyError\u001b[0m: 'chicago '"
     ]
    }
   ],
   "source": [
    "def get_city_data():\n",
    "    city = input(\"enter city data: \").lower()\n",
    "    df = pd.read_csv(city_data[city])\n",
    "    return df\n",
    "\n",
    "def clean_data(df):\n",
    "    df[[\"start_date\", \"start_time\"]] = df[\"Start Time\"].str.split(\" \", expand = True)\n",
    "    df[[\"end_date\", \"end_time\"]] = df[\"End Time\"].str.split(\" \", expand = True)\n",
    "    df = df.drop([\"Start Time\", \"End Time\"], axis = 1)\n",
    "    df[\"start_date\"] = pd.to_datetime(df[\"start_date\"])\n",
    "    df[\"end_date\"] = pd.to_datetime(df[\"end_date\"])\n",
    "    return df.head()\n",
    "\n",
    "get_city = get_city_data()\n",
    "clean_data = clean_data(get_city)\n",
    "clean_data"
   ]
  },
  {
   "cell_type": "code",
   "execution_count": 4,
   "id": "63db3a8a",
   "metadata": {},
   "outputs": [
    {
     "data": {
      "text/plain": [
       "Index(['Unnamed: 0', 'Start Time', 'End Time', 'Trip Duration',\n",
       "       'Start Station', 'End Station', 'User Type'],\n",
       "      dtype='object')"
      ]
     },
     "execution_count": 4,
     "metadata": {},
     "output_type": "execute_result"
    }
   ],
   "source": [
    "df = pd.read_csv(city_data[\"washinton\"])\n",
    "df.columns"
   ]
  },
  {
   "cell_type": "code",
   "execution_count": 5,
   "id": "46997760",
   "metadata": {},
   "outputs": [],
   "source": [
    " df[[\"start_date\", \"start_ time\"]] = df[\"Start Time\"].str.split(\" \", expand = True)"
   ]
  },
  {
   "cell_type": "code",
   "execution_count": 6,
   "id": "53ed5f87",
   "metadata": {},
   "outputs": [],
   "source": [
    "df[[\"end_date\", \"end_ time\"]] = df[\"End Time\"].str.split(\" \", expand = True)"
   ]
  },
  {
   "cell_type": "code",
   "execution_count": 7,
   "id": "731f09c1",
   "metadata": {},
   "outputs": [
    {
     "data": {
      "text/html": [
       "<div>\n",
       "<style scoped>\n",
       "    .dataframe tbody tr th:only-of-type {\n",
       "        vertical-align: middle;\n",
       "    }\n",
       "\n",
       "    .dataframe tbody tr th {\n",
       "        vertical-align: top;\n",
       "    }\n",
       "\n",
       "    .dataframe thead th {\n",
       "        text-align: right;\n",
       "    }\n",
       "</style>\n",
       "<table border=\"1\" class=\"dataframe\">\n",
       "  <thead>\n",
       "    <tr style=\"text-align: right;\">\n",
       "      <th></th>\n",
       "      <th>Unnamed: 0</th>\n",
       "      <th>Start Time</th>\n",
       "      <th>End Time</th>\n",
       "      <th>Trip Duration</th>\n",
       "      <th>Start Station</th>\n",
       "      <th>End Station</th>\n",
       "      <th>User Type</th>\n",
       "      <th>start_date</th>\n",
       "      <th>start_ time</th>\n",
       "      <th>end_date</th>\n",
       "      <th>end_ time</th>\n",
       "    </tr>\n",
       "  </thead>\n",
       "  <tbody>\n",
       "    <tr>\n",
       "      <th>0</th>\n",
       "      <td>1621326</td>\n",
       "      <td>2017-06-21 08:36:34</td>\n",
       "      <td>2017-06-21 08:44:43</td>\n",
       "      <td>489.066</td>\n",
       "      <td>14th &amp; Belmont St NW</td>\n",
       "      <td>15th &amp; K St NW</td>\n",
       "      <td>Subscriber</td>\n",
       "      <td>2017-06-21</td>\n",
       "      <td>08:36:34</td>\n",
       "      <td>2017-06-21</td>\n",
       "      <td>08:44:43</td>\n",
       "    </tr>\n",
       "    <tr>\n",
       "      <th>1</th>\n",
       "      <td>482740</td>\n",
       "      <td>2017-03-11 10:40:00</td>\n",
       "      <td>2017-03-11 10:46:00</td>\n",
       "      <td>402.549</td>\n",
       "      <td>Yuma St &amp; Tenley Circle NW</td>\n",
       "      <td>Connecticut Ave &amp; Yuma St NW</td>\n",
       "      <td>Subscriber</td>\n",
       "      <td>2017-03-11</td>\n",
       "      <td>10:40:00</td>\n",
       "      <td>2017-03-11</td>\n",
       "      <td>10:46:00</td>\n",
       "    </tr>\n",
       "    <tr>\n",
       "      <th>2</th>\n",
       "      <td>1330037</td>\n",
       "      <td>2017-05-30 01:02:59</td>\n",
       "      <td>2017-05-30 01:13:37</td>\n",
       "      <td>637.251</td>\n",
       "      <td>17th St &amp; Massachusetts Ave NW</td>\n",
       "      <td>5th &amp; K St NW</td>\n",
       "      <td>Subscriber</td>\n",
       "      <td>2017-05-30</td>\n",
       "      <td>01:02:59</td>\n",
       "      <td>2017-05-30</td>\n",
       "      <td>01:13:37</td>\n",
       "    </tr>\n",
       "    <tr>\n",
       "      <th>3</th>\n",
       "      <td>665458</td>\n",
       "      <td>2017-04-02 07:48:35</td>\n",
       "      <td>2017-04-02 08:19:03</td>\n",
       "      <td>1827.341</td>\n",
       "      <td>Constitution Ave &amp; 2nd St NW/DOL</td>\n",
       "      <td>M St &amp; Pennsylvania Ave NW</td>\n",
       "      <td>Customer</td>\n",
       "      <td>2017-04-02</td>\n",
       "      <td>07:48:35</td>\n",
       "      <td>2017-04-02</td>\n",
       "      <td>08:19:03</td>\n",
       "    </tr>\n",
       "    <tr>\n",
       "      <th>4</th>\n",
       "      <td>1481135</td>\n",
       "      <td>2017-06-10 08:36:28</td>\n",
       "      <td>2017-06-10 09:02:17</td>\n",
       "      <td>1549.427</td>\n",
       "      <td>Henry Bacon Dr &amp; Lincoln Memorial Circle NW</td>\n",
       "      <td>Maine Ave &amp; 7th St SW</td>\n",
       "      <td>Subscriber</td>\n",
       "      <td>2017-06-10</td>\n",
       "      <td>08:36:28</td>\n",
       "      <td>2017-06-10</td>\n",
       "      <td>09:02:17</td>\n",
       "    </tr>\n",
       "  </tbody>\n",
       "</table>\n",
       "</div>"
      ],
      "text/plain": [
       "   Unnamed: 0           Start Time             End Time  Trip Duration  \\\n",
       "0     1621326  2017-06-21 08:36:34  2017-06-21 08:44:43        489.066   \n",
       "1      482740  2017-03-11 10:40:00  2017-03-11 10:46:00        402.549   \n",
       "2     1330037  2017-05-30 01:02:59  2017-05-30 01:13:37        637.251   \n",
       "3      665458  2017-04-02 07:48:35  2017-04-02 08:19:03       1827.341   \n",
       "4     1481135  2017-06-10 08:36:28  2017-06-10 09:02:17       1549.427   \n",
       "\n",
       "                                 Start Station                   End Station  \\\n",
       "0                         14th & Belmont St NW                15th & K St NW   \n",
       "1                   Yuma St & Tenley Circle NW  Connecticut Ave & Yuma St NW   \n",
       "2               17th St & Massachusetts Ave NW                 5th & K St NW   \n",
       "3             Constitution Ave & 2nd St NW/DOL    M St & Pennsylvania Ave NW   \n",
       "4  Henry Bacon Dr & Lincoln Memorial Circle NW         Maine Ave & 7th St SW   \n",
       "\n",
       "    User Type  start_date start_ time    end_date end_ time  \n",
       "0  Subscriber  2017-06-21    08:36:34  2017-06-21  08:44:43  \n",
       "1  Subscriber  2017-03-11    10:40:00  2017-03-11  10:46:00  \n",
       "2  Subscriber  2017-05-30    01:02:59  2017-05-30  01:13:37  \n",
       "3    Customer  2017-04-02    07:48:35  2017-04-02  08:19:03  \n",
       "4  Subscriber  2017-06-10    08:36:28  2017-06-10  09:02:17  "
      ]
     },
     "execution_count": 7,
     "metadata": {},
     "output_type": "execute_result"
    }
   ],
   "source": [
    "df.head()\n"
   ]
  },
  {
   "cell_type": "code",
   "execution_count": 8,
   "id": "4ad5919b",
   "metadata": {},
   "outputs": [
    {
     "data": {
      "text/html": [
       "<div>\n",
       "<style scoped>\n",
       "    .dataframe tbody tr th:only-of-type {\n",
       "        vertical-align: middle;\n",
       "    }\n",
       "\n",
       "    .dataframe tbody tr th {\n",
       "        vertical-align: top;\n",
       "    }\n",
       "\n",
       "    .dataframe thead th {\n",
       "        text-align: right;\n",
       "    }\n",
       "</style>\n",
       "<table border=\"1\" class=\"dataframe\">\n",
       "  <thead>\n",
       "    <tr style=\"text-align: right;\">\n",
       "      <th></th>\n",
       "      <th>Unnamed: 0</th>\n",
       "      <th>Trip Duration</th>\n",
       "      <th>Start Station</th>\n",
       "      <th>End Station</th>\n",
       "      <th>User Type</th>\n",
       "      <th>start_date</th>\n",
       "      <th>start_ time</th>\n",
       "      <th>end_date</th>\n",
       "      <th>end_ time</th>\n",
       "    </tr>\n",
       "  </thead>\n",
       "  <tbody>\n",
       "    <tr>\n",
       "      <th>0</th>\n",
       "      <td>1621326</td>\n",
       "      <td>489.066</td>\n",
       "      <td>14th &amp; Belmont St NW</td>\n",
       "      <td>15th &amp; K St NW</td>\n",
       "      <td>Subscriber</td>\n",
       "      <td>2017-06-21</td>\n",
       "      <td>08:36:34</td>\n",
       "      <td>2017-06-21</td>\n",
       "      <td>08:44:43</td>\n",
       "    </tr>\n",
       "    <tr>\n",
       "      <th>1</th>\n",
       "      <td>482740</td>\n",
       "      <td>402.549</td>\n",
       "      <td>Yuma St &amp; Tenley Circle NW</td>\n",
       "      <td>Connecticut Ave &amp; Yuma St NW</td>\n",
       "      <td>Subscriber</td>\n",
       "      <td>2017-03-11</td>\n",
       "      <td>10:40:00</td>\n",
       "      <td>2017-03-11</td>\n",
       "      <td>10:46:00</td>\n",
       "    </tr>\n",
       "    <tr>\n",
       "      <th>2</th>\n",
       "      <td>1330037</td>\n",
       "      <td>637.251</td>\n",
       "      <td>17th St &amp; Massachusetts Ave NW</td>\n",
       "      <td>5th &amp; K St NW</td>\n",
       "      <td>Subscriber</td>\n",
       "      <td>2017-05-30</td>\n",
       "      <td>01:02:59</td>\n",
       "      <td>2017-05-30</td>\n",
       "      <td>01:13:37</td>\n",
       "    </tr>\n",
       "    <tr>\n",
       "      <th>3</th>\n",
       "      <td>665458</td>\n",
       "      <td>1827.341</td>\n",
       "      <td>Constitution Ave &amp; 2nd St NW/DOL</td>\n",
       "      <td>M St &amp; Pennsylvania Ave NW</td>\n",
       "      <td>Customer</td>\n",
       "      <td>2017-04-02</td>\n",
       "      <td>07:48:35</td>\n",
       "      <td>2017-04-02</td>\n",
       "      <td>08:19:03</td>\n",
       "    </tr>\n",
       "    <tr>\n",
       "      <th>4</th>\n",
       "      <td>1481135</td>\n",
       "      <td>1549.427</td>\n",
       "      <td>Henry Bacon Dr &amp; Lincoln Memorial Circle NW</td>\n",
       "      <td>Maine Ave &amp; 7th St SW</td>\n",
       "      <td>Subscriber</td>\n",
       "      <td>2017-06-10</td>\n",
       "      <td>08:36:28</td>\n",
       "      <td>2017-06-10</td>\n",
       "      <td>09:02:17</td>\n",
       "    </tr>\n",
       "  </tbody>\n",
       "</table>\n",
       "</div>"
      ],
      "text/plain": [
       "   Unnamed: 0  Trip Duration                                Start Station  \\\n",
       "0     1621326        489.066                         14th & Belmont St NW   \n",
       "1      482740        402.549                   Yuma St & Tenley Circle NW   \n",
       "2     1330037        637.251               17th St & Massachusetts Ave NW   \n",
       "3      665458       1827.341             Constitution Ave & 2nd St NW/DOL   \n",
       "4     1481135       1549.427  Henry Bacon Dr & Lincoln Memorial Circle NW   \n",
       "\n",
       "                    End Station   User Type  start_date start_ time  \\\n",
       "0                15th & K St NW  Subscriber  2017-06-21    08:36:34   \n",
       "1  Connecticut Ave & Yuma St NW  Subscriber  2017-03-11    10:40:00   \n",
       "2                 5th & K St NW  Subscriber  2017-05-30    01:02:59   \n",
       "3    M St & Pennsylvania Ave NW    Customer  2017-04-02    07:48:35   \n",
       "4         Maine Ave & 7th St SW  Subscriber  2017-06-10    08:36:28   \n",
       "\n",
       "     end_date end_ time  \n",
       "0  2017-06-21  08:44:43  \n",
       "1  2017-03-11  10:46:00  \n",
       "2  2017-05-30  01:13:37  \n",
       "3  2017-04-02  08:19:03  \n",
       "4  2017-06-10  09:02:17  "
      ]
     },
     "execution_count": 8,
     "metadata": {},
     "output_type": "execute_result"
    }
   ],
   "source": [
    "df= df.drop([\"Start Time\", \"End Time\"], axis = 1)\n",
    "df.head()"
   ]
  },
  {
   "cell_type": "code",
   "execution_count": 9,
   "id": "116aaa2c",
   "metadata": {},
   "outputs": [
    {
     "name": "stdout",
     "output_type": "stream",
     "text": [
      "<class 'pandas.core.frame.DataFrame'>\n",
      "RangeIndex: 300000 entries, 0 to 299999\n",
      "Data columns (total 9 columns):\n",
      " #   Column         Non-Null Count   Dtype  \n",
      "---  ------         --------------   -----  \n",
      " 0   Unnamed: 0     300000 non-null  int64  \n",
      " 1   Trip Duration  300000 non-null  float64\n",
      " 2   Start Station  300000 non-null  object \n",
      " 3   End Station    300000 non-null  object \n",
      " 4   User Type      300000 non-null  object \n",
      " 5   start_date     300000 non-null  object \n",
      " 6   start_ time    300000 non-null  object \n",
      " 7   end_date       300000 non-null  object \n",
      " 8   end_ time      300000 non-null  object \n",
      "dtypes: float64(1), int64(1), object(7)\n",
      "memory usage: 20.6+ MB\n"
     ]
    }
   ],
   "source": [
    "df.info()"
   ]
  },
  {
   "cell_type": "code",
   "execution_count": 27,
   "id": "abcc5f47",
   "metadata": {},
   "outputs": [
    {
     "data": {
      "text/html": [
       "<div>\n",
       "<style scoped>\n",
       "    .dataframe tbody tr th:only-of-type {\n",
       "        vertical-align: middle;\n",
       "    }\n",
       "\n",
       "    .dataframe tbody tr th {\n",
       "        vertical-align: top;\n",
       "    }\n",
       "\n",
       "    .dataframe thead th {\n",
       "        text-align: right;\n",
       "    }\n",
       "</style>\n",
       "<table border=\"1\" class=\"dataframe\">\n",
       "  <thead>\n",
       "    <tr style=\"text-align: right;\">\n",
       "      <th></th>\n",
       "      <th>Unnamed: 0</th>\n",
       "      <th>Trip Duration</th>\n",
       "      <th>Start Station</th>\n",
       "      <th>End Station</th>\n",
       "      <th>User Type</th>\n",
       "      <th>start_date</th>\n",
       "      <th>start_ time</th>\n",
       "      <th>end_date</th>\n",
       "      <th>end_ time</th>\n",
       "    </tr>\n",
       "  </thead>\n",
       "  <tbody>\n",
       "    <tr>\n",
       "      <th>0</th>\n",
       "      <td>1621326</td>\n",
       "      <td>489.066</td>\n",
       "      <td>14th &amp; Belmont St NW</td>\n",
       "      <td>15th &amp; K St NW</td>\n",
       "      <td>Subscriber</td>\n",
       "      <td>2017-06-21</td>\n",
       "      <td>08:36:34</td>\n",
       "      <td>2017-06-21</td>\n",
       "      <td>08:44:43</td>\n",
       "    </tr>\n",
       "    <tr>\n",
       "      <th>1</th>\n",
       "      <td>482740</td>\n",
       "      <td>402.549</td>\n",
       "      <td>Yuma St &amp; Tenley Circle NW</td>\n",
       "      <td>Connecticut Ave &amp; Yuma St NW</td>\n",
       "      <td>Subscriber</td>\n",
       "      <td>2017-03-11</td>\n",
       "      <td>10:40:00</td>\n",
       "      <td>2017-03-11</td>\n",
       "      <td>10:46:00</td>\n",
       "    </tr>\n",
       "    <tr>\n",
       "      <th>2</th>\n",
       "      <td>1330037</td>\n",
       "      <td>637.251</td>\n",
       "      <td>17th St &amp; Massachusetts Ave NW</td>\n",
       "      <td>5th &amp; K St NW</td>\n",
       "      <td>Subscriber</td>\n",
       "      <td>2017-05-30</td>\n",
       "      <td>01:02:59</td>\n",
       "      <td>2017-05-30</td>\n",
       "      <td>01:13:37</td>\n",
       "    </tr>\n",
       "    <tr>\n",
       "      <th>3</th>\n",
       "      <td>665458</td>\n",
       "      <td>1827.341</td>\n",
       "      <td>Constitution Ave &amp; 2nd St NW/DOL</td>\n",
       "      <td>M St &amp; Pennsylvania Ave NW</td>\n",
       "      <td>Customer</td>\n",
       "      <td>2017-04-02</td>\n",
       "      <td>07:48:35</td>\n",
       "      <td>2017-04-02</td>\n",
       "      <td>08:19:03</td>\n",
       "    </tr>\n",
       "    <tr>\n",
       "      <th>4</th>\n",
       "      <td>1481135</td>\n",
       "      <td>1549.427</td>\n",
       "      <td>Henry Bacon Dr &amp; Lincoln Memorial Circle NW</td>\n",
       "      <td>Maine Ave &amp; 7th St SW</td>\n",
       "      <td>Subscriber</td>\n",
       "      <td>2017-06-10</td>\n",
       "      <td>08:36:28</td>\n",
       "      <td>2017-06-10</td>\n",
       "      <td>09:02:17</td>\n",
       "    </tr>\n",
       "  </tbody>\n",
       "</table>\n",
       "</div>"
      ],
      "text/plain": [
       "   Unnamed: 0  Trip Duration                                Start Station  \\\n",
       "0     1621326        489.066                         14th & Belmont St NW   \n",
       "1      482740        402.549                   Yuma St & Tenley Circle NW   \n",
       "2     1330037        637.251               17th St & Massachusetts Ave NW   \n",
       "3      665458       1827.341             Constitution Ave & 2nd St NW/DOL   \n",
       "4     1481135       1549.427  Henry Bacon Dr & Lincoln Memorial Circle NW   \n",
       "\n",
       "                    End Station   User Type  start_date start_ time  \\\n",
       "0                15th & K St NW  Subscriber  2017-06-21    08:36:34   \n",
       "1  Connecticut Ave & Yuma St NW  Subscriber  2017-03-11    10:40:00   \n",
       "2                 5th & K St NW  Subscriber  2017-05-30    01:02:59   \n",
       "3    M St & Pennsylvania Ave NW    Customer  2017-04-02    07:48:35   \n",
       "4         Maine Ave & 7th St SW  Subscriber  2017-06-10    08:36:28   \n",
       "\n",
       "     end_date end_ time  \n",
       "0  2017-06-21  08:44:43  \n",
       "1  2017-03-11  10:46:00  \n",
       "2  2017-05-30  01:13:37  \n",
       "3  2017-04-02  08:19:03  \n",
       "4  2017-06-10  09:02:17  "
      ]
     },
     "execution_count": 27,
     "metadata": {},
     "output_type": "execute_result"
    }
   ],
   "source": [
    "df.head()"
   ]
  },
  {
   "cell_type": "code",
   "execution_count": 30,
   "id": "d7fff6b6",
   "metadata": {},
   "outputs": [
    {
     "data": {
      "text/plain": [
       "start_date  end_date  \n",
       "2017-04-15  2017-04-15    2829\n",
       "2017-03-25  2017-03-25    2766\n",
       "2017-04-14  2017-04-14    2763\n",
       "2017-06-28  2017-06-28    2659\n",
       "2017-04-13  2017-04-13    2631\n",
       "dtype: int64"
      ]
     },
     "execution_count": 30,
     "metadata": {},
     "output_type": "execute_result"
    }
   ],
   "source": [
    "df[[\"start_date\", \"end_date\"]].value_counts().head()"
   ]
  },
  {
   "cell_type": "code",
   "execution_count": 34,
   "id": "67950c6c",
   "metadata": {},
   "outputs": [],
   "source": [
    "df[[\"start_year\", \"start_month\", \"start_day\"]] = df[\"start_date\"].str.split(\"-\", expand = True)"
   ]
  },
  {
   "cell_type": "code",
   "execution_count": 35,
   "id": "a62a3ca9",
   "metadata": {},
   "outputs": [
    {
     "data": {
      "text/html": [
       "<div>\n",
       "<style scoped>\n",
       "    .dataframe tbody tr th:only-of-type {\n",
       "        vertical-align: middle;\n",
       "    }\n",
       "\n",
       "    .dataframe tbody tr th {\n",
       "        vertical-align: top;\n",
       "    }\n",
       "\n",
       "    .dataframe thead th {\n",
       "        text-align: right;\n",
       "    }\n",
       "</style>\n",
       "<table border=\"1\" class=\"dataframe\">\n",
       "  <thead>\n",
       "    <tr style=\"text-align: right;\">\n",
       "      <th></th>\n",
       "      <th>Unnamed: 0</th>\n",
       "      <th>Trip Duration</th>\n",
       "      <th>Start Station</th>\n",
       "      <th>End Station</th>\n",
       "      <th>User Type</th>\n",
       "      <th>start_date</th>\n",
       "      <th>start_ time</th>\n",
       "      <th>end_date</th>\n",
       "      <th>end_ time</th>\n",
       "      <th>start_year</th>\n",
       "      <th>start_month</th>\n",
       "      <th>start_day</th>\n",
       "    </tr>\n",
       "  </thead>\n",
       "  <tbody>\n",
       "    <tr>\n",
       "      <th>0</th>\n",
       "      <td>1621326</td>\n",
       "      <td>489.066</td>\n",
       "      <td>14th &amp; Belmont St NW</td>\n",
       "      <td>15th &amp; K St NW</td>\n",
       "      <td>Subscriber</td>\n",
       "      <td>2017-06-21</td>\n",
       "      <td>08:36:34</td>\n",
       "      <td>2017-06-21</td>\n",
       "      <td>08:44:43</td>\n",
       "      <td>2017</td>\n",
       "      <td>06</td>\n",
       "      <td>21</td>\n",
       "    </tr>\n",
       "    <tr>\n",
       "      <th>1</th>\n",
       "      <td>482740</td>\n",
       "      <td>402.549</td>\n",
       "      <td>Yuma St &amp; Tenley Circle NW</td>\n",
       "      <td>Connecticut Ave &amp; Yuma St NW</td>\n",
       "      <td>Subscriber</td>\n",
       "      <td>2017-03-11</td>\n",
       "      <td>10:40:00</td>\n",
       "      <td>2017-03-11</td>\n",
       "      <td>10:46:00</td>\n",
       "      <td>2017</td>\n",
       "      <td>03</td>\n",
       "      <td>11</td>\n",
       "    </tr>\n",
       "    <tr>\n",
       "      <th>2</th>\n",
       "      <td>1330037</td>\n",
       "      <td>637.251</td>\n",
       "      <td>17th St &amp; Massachusetts Ave NW</td>\n",
       "      <td>5th &amp; K St NW</td>\n",
       "      <td>Subscriber</td>\n",
       "      <td>2017-05-30</td>\n",
       "      <td>01:02:59</td>\n",
       "      <td>2017-05-30</td>\n",
       "      <td>01:13:37</td>\n",
       "      <td>2017</td>\n",
       "      <td>05</td>\n",
       "      <td>30</td>\n",
       "    </tr>\n",
       "    <tr>\n",
       "      <th>3</th>\n",
       "      <td>665458</td>\n",
       "      <td>1827.341</td>\n",
       "      <td>Constitution Ave &amp; 2nd St NW/DOL</td>\n",
       "      <td>M St &amp; Pennsylvania Ave NW</td>\n",
       "      <td>Customer</td>\n",
       "      <td>2017-04-02</td>\n",
       "      <td>07:48:35</td>\n",
       "      <td>2017-04-02</td>\n",
       "      <td>08:19:03</td>\n",
       "      <td>2017</td>\n",
       "      <td>04</td>\n",
       "      <td>02</td>\n",
       "    </tr>\n",
       "    <tr>\n",
       "      <th>4</th>\n",
       "      <td>1481135</td>\n",
       "      <td>1549.427</td>\n",
       "      <td>Henry Bacon Dr &amp; Lincoln Memorial Circle NW</td>\n",
       "      <td>Maine Ave &amp; 7th St SW</td>\n",
       "      <td>Subscriber</td>\n",
       "      <td>2017-06-10</td>\n",
       "      <td>08:36:28</td>\n",
       "      <td>2017-06-10</td>\n",
       "      <td>09:02:17</td>\n",
       "      <td>2017</td>\n",
       "      <td>06</td>\n",
       "      <td>10</td>\n",
       "    </tr>\n",
       "  </tbody>\n",
       "</table>\n",
       "</div>"
      ],
      "text/plain": [
       "   Unnamed: 0  Trip Duration                                Start Station  \\\n",
       "0     1621326        489.066                         14th & Belmont St NW   \n",
       "1      482740        402.549                   Yuma St & Tenley Circle NW   \n",
       "2     1330037        637.251               17th St & Massachusetts Ave NW   \n",
       "3      665458       1827.341             Constitution Ave & 2nd St NW/DOL   \n",
       "4     1481135       1549.427  Henry Bacon Dr & Lincoln Memorial Circle NW   \n",
       "\n",
       "                    End Station   User Type  start_date start_ time  \\\n",
       "0                15th & K St NW  Subscriber  2017-06-21    08:36:34   \n",
       "1  Connecticut Ave & Yuma St NW  Subscriber  2017-03-11    10:40:00   \n",
       "2                 5th & K St NW  Subscriber  2017-05-30    01:02:59   \n",
       "3    M St & Pennsylvania Ave NW    Customer  2017-04-02    07:48:35   \n",
       "4         Maine Ave & 7th St SW  Subscriber  2017-06-10    08:36:28   \n",
       "\n",
       "     end_date end_ time start_year start_month start_day  \n",
       "0  2017-06-21  08:44:43       2017          06        21  \n",
       "1  2017-03-11  10:46:00       2017          03        11  \n",
       "2  2017-05-30  01:13:37       2017          05        30  \n",
       "3  2017-04-02  08:19:03       2017          04        02  \n",
       "4  2017-06-10  09:02:17       2017          06        10  "
      ]
     },
     "execution_count": 35,
     "metadata": {},
     "output_type": "execute_result"
    }
   ],
   "source": [
    "df.head()"
   ]
  },
  {
   "cell_type": "code",
   "execution_count": 40,
   "id": "128d34d0",
   "metadata": {},
   "outputs": [
    {
     "name": "stdout",
     "output_type": "stream",
     "text": [
      "2022-06-28\n"
     ]
    }
   ],
   "source": [
    "from datetime import date\n",
    "#import calender\n",
    "my_date = date.today()\n",
    "print(my_date)"
   ]
  },
  {
   "cell_type": "code",
   "execution_count": 41,
   "id": "c622cde6",
   "metadata": {},
   "outputs": [],
   "source": [
    "df[\"start_date\"] = pd.to_datetime(df[\"start_date\"])\n",
    "df[\"end_time\"] = pd.to_datetime(df[\"end_date\"])"
   ]
  },
  {
   "cell_type": "code",
   "execution_count": 42,
   "id": "0b5d0022",
   "metadata": {},
   "outputs": [],
   "source": [
    "df[\"DayOfWeek\"] = df[\"start_date\"].dt.weekday"
   ]
  },
  {
   "cell_type": "code",
   "execution_count": 43,
   "id": "2ce823a3",
   "metadata": {},
   "outputs": [
    {
     "data": {
      "text/html": [
       "<div>\n",
       "<style scoped>\n",
       "    .dataframe tbody tr th:only-of-type {\n",
       "        vertical-align: middle;\n",
       "    }\n",
       "\n",
       "    .dataframe tbody tr th {\n",
       "        vertical-align: top;\n",
       "    }\n",
       "\n",
       "    .dataframe thead th {\n",
       "        text-align: right;\n",
       "    }\n",
       "</style>\n",
       "<table border=\"1\" class=\"dataframe\">\n",
       "  <thead>\n",
       "    <tr style=\"text-align: right;\">\n",
       "      <th></th>\n",
       "      <th>Unnamed: 0</th>\n",
       "      <th>Trip Duration</th>\n",
       "      <th>Start Station</th>\n",
       "      <th>End Station</th>\n",
       "      <th>User Type</th>\n",
       "      <th>start_date</th>\n",
       "      <th>start_ time</th>\n",
       "      <th>end_date</th>\n",
       "      <th>end_ time</th>\n",
       "      <th>start_year</th>\n",
       "      <th>start_month</th>\n",
       "      <th>start_day</th>\n",
       "      <th>end_time</th>\n",
       "      <th>DayOfWeek</th>\n",
       "    </tr>\n",
       "  </thead>\n",
       "  <tbody>\n",
       "    <tr>\n",
       "      <th>0</th>\n",
       "      <td>1621326</td>\n",
       "      <td>489.066</td>\n",
       "      <td>14th &amp; Belmont St NW</td>\n",
       "      <td>15th &amp; K St NW</td>\n",
       "      <td>Subscriber</td>\n",
       "      <td>2017-06-21</td>\n",
       "      <td>08:36:34</td>\n",
       "      <td>2017-06-21</td>\n",
       "      <td>08:44:43</td>\n",
       "      <td>2017</td>\n",
       "      <td>06</td>\n",
       "      <td>21</td>\n",
       "      <td>2017-06-21</td>\n",
       "      <td>2</td>\n",
       "    </tr>\n",
       "    <tr>\n",
       "      <th>1</th>\n",
       "      <td>482740</td>\n",
       "      <td>402.549</td>\n",
       "      <td>Yuma St &amp; Tenley Circle NW</td>\n",
       "      <td>Connecticut Ave &amp; Yuma St NW</td>\n",
       "      <td>Subscriber</td>\n",
       "      <td>2017-03-11</td>\n",
       "      <td>10:40:00</td>\n",
       "      <td>2017-03-11</td>\n",
       "      <td>10:46:00</td>\n",
       "      <td>2017</td>\n",
       "      <td>03</td>\n",
       "      <td>11</td>\n",
       "      <td>2017-03-11</td>\n",
       "      <td>5</td>\n",
       "    </tr>\n",
       "    <tr>\n",
       "      <th>2</th>\n",
       "      <td>1330037</td>\n",
       "      <td>637.251</td>\n",
       "      <td>17th St &amp; Massachusetts Ave NW</td>\n",
       "      <td>5th &amp; K St NW</td>\n",
       "      <td>Subscriber</td>\n",
       "      <td>2017-05-30</td>\n",
       "      <td>01:02:59</td>\n",
       "      <td>2017-05-30</td>\n",
       "      <td>01:13:37</td>\n",
       "      <td>2017</td>\n",
       "      <td>05</td>\n",
       "      <td>30</td>\n",
       "      <td>2017-05-30</td>\n",
       "      <td>1</td>\n",
       "    </tr>\n",
       "    <tr>\n",
       "      <th>3</th>\n",
       "      <td>665458</td>\n",
       "      <td>1827.341</td>\n",
       "      <td>Constitution Ave &amp; 2nd St NW/DOL</td>\n",
       "      <td>M St &amp; Pennsylvania Ave NW</td>\n",
       "      <td>Customer</td>\n",
       "      <td>2017-04-02</td>\n",
       "      <td>07:48:35</td>\n",
       "      <td>2017-04-02</td>\n",
       "      <td>08:19:03</td>\n",
       "      <td>2017</td>\n",
       "      <td>04</td>\n",
       "      <td>02</td>\n",
       "      <td>2017-04-02</td>\n",
       "      <td>6</td>\n",
       "    </tr>\n",
       "    <tr>\n",
       "      <th>4</th>\n",
       "      <td>1481135</td>\n",
       "      <td>1549.427</td>\n",
       "      <td>Henry Bacon Dr &amp; Lincoln Memorial Circle NW</td>\n",
       "      <td>Maine Ave &amp; 7th St SW</td>\n",
       "      <td>Subscriber</td>\n",
       "      <td>2017-06-10</td>\n",
       "      <td>08:36:28</td>\n",
       "      <td>2017-06-10</td>\n",
       "      <td>09:02:17</td>\n",
       "      <td>2017</td>\n",
       "      <td>06</td>\n",
       "      <td>10</td>\n",
       "      <td>2017-06-10</td>\n",
       "      <td>5</td>\n",
       "    </tr>\n",
       "  </tbody>\n",
       "</table>\n",
       "</div>"
      ],
      "text/plain": [
       "   Unnamed: 0  Trip Duration                                Start Station  \\\n",
       "0     1621326        489.066                         14th & Belmont St NW   \n",
       "1      482740        402.549                   Yuma St & Tenley Circle NW   \n",
       "2     1330037        637.251               17th St & Massachusetts Ave NW   \n",
       "3      665458       1827.341             Constitution Ave & 2nd St NW/DOL   \n",
       "4     1481135       1549.427  Henry Bacon Dr & Lincoln Memorial Circle NW   \n",
       "\n",
       "                    End Station   User Type start_date start_ time  \\\n",
       "0                15th & K St NW  Subscriber 2017-06-21    08:36:34   \n",
       "1  Connecticut Ave & Yuma St NW  Subscriber 2017-03-11    10:40:00   \n",
       "2                 5th & K St NW  Subscriber 2017-05-30    01:02:59   \n",
       "3    M St & Pennsylvania Ave NW    Customer 2017-04-02    07:48:35   \n",
       "4         Maine Ave & 7th St SW  Subscriber 2017-06-10    08:36:28   \n",
       "\n",
       "     end_date end_ time start_year start_month start_day   end_time  DayOfWeek  \n",
       "0  2017-06-21  08:44:43       2017          06        21 2017-06-21          2  \n",
       "1  2017-03-11  10:46:00       2017          03        11 2017-03-11          5  \n",
       "2  2017-05-30  01:13:37       2017          05        30 2017-05-30          1  \n",
       "3  2017-04-02  08:19:03       2017          04        02 2017-04-02          6  \n",
       "4  2017-06-10  09:02:17       2017          06        10 2017-06-10          5  "
      ]
     },
     "execution_count": 43,
     "metadata": {},
     "output_type": "execute_result"
    }
   ],
   "source": [
    "df.head()"
   ]
  },
  {
   "cell_type": "code",
   "execution_count": 44,
   "id": "96d45c09",
   "metadata": {},
   "outputs": [
    {
     "data": {
      "text/plain": [
       "2    48156\n",
       "1    44519\n",
       "3    43946\n",
       "4    43280\n",
       "5    40593\n",
       "0    39930\n",
       "6    39576\n",
       "Name: DayOfWeek, dtype: int64"
      ]
     },
     "execution_count": 44,
     "metadata": {},
     "output_type": "execute_result"
    }
   ],
   "source": [
    "df[\"DayOfWeek\"].value_counts()"
   ]
  },
  {
   "cell_type": "code",
   "execution_count": 45,
   "id": "62e596bf",
   "metadata": {},
   "outputs": [
    {
     "data": {
      "text/plain": [
       "Index(['Unnamed: 0', 'Start Time', 'End Time', 'Trip Duration',\n",
       "       'Start Station', 'End Station', 'User Type'],\n",
       "      dtype='object')"
      ]
     },
     "execution_count": 45,
     "metadata": {},
     "output_type": "execute_result"
    }
   ],
   "source": [
    "df = pd.read_csv(city_data[\"washinton\"])\n",
    "df.columns"
   ]
  },
  {
   "cell_type": "code",
   "execution_count": 46,
   "id": "7cfb577d",
   "metadata": {},
   "outputs": [
    {
     "data": {
      "text/plain": [
       "Index(['id', 'Start Time', 'End Time', 'Trip Duration', 'Start Station',\n",
       "       'End Station', 'User Type'],\n",
       "      dtype='object')"
      ]
     },
     "execution_count": 46,
     "metadata": {},
     "output_type": "execute_result"
    }
   ],
   "source": [
    "name = {\"Unnamed: 0\": \"id\"}\n",
    "df.rename(columns = name, inplace = True)\n",
    "df.columns"
   ]
  },
  {
   "cell_type": "code",
   "execution_count": 2,
   "id": "79230a87",
   "metadata": {},
   "outputs": [
    {
     "ename": "NameError",
     "evalue": "name 'df' is not defined",
     "output_type": "error",
     "traceback": [
      "\u001b[1;31m---------------------------------------------------------------------------\u001b[0m",
      "\u001b[1;31mNameError\u001b[0m                                 Traceback (most recent call last)",
      "\u001b[1;32m~\\AppData\\Local\\Temp/ipykernel_10624/4198726215.py\u001b[0m in \u001b[0;36m<module>\u001b[1;34m\u001b[0m\n\u001b[0;32m     21\u001b[0m     \u001b[0mprint\u001b[0m\u001b[1;33m(\u001b[0m\u001b[0mmost_common_hour\u001b[0m\u001b[1;33m)\u001b[0m\u001b[1;33m\u001b[0m\u001b[1;33m\u001b[0m\u001b[0m\n\u001b[0;32m     22\u001b[0m \u001b[1;33m\u001b[0m\u001b[0m\n\u001b[1;32m---> 23\u001b[1;33m \u001b[0mtime_stats\u001b[0m \u001b[1;33m=\u001b[0m \u001b[0mtime_stats\u001b[0m\u001b[1;33m(\u001b[0m\u001b[0mdf\u001b[0m\u001b[1;33m)\u001b[0m\u001b[1;33m\u001b[0m\u001b[1;33m\u001b[0m\u001b[0m\n\u001b[0m",
      "\u001b[1;31mNameError\u001b[0m: name 'df' is not defined"
     ]
    }
   ],
   "source": [
    "def time_stats(df):\n",
    "    # Display the most common month\n",
    "    most_common_month = df[\"start_month\"].value_counts().idxmax()\n",
    "    month = dict(enumerate(calendar.month_name))\n",
    "    \n",
    "    # Display the most common day of the week\n",
    "    most_common_day = df[\"DayOfWeek\"].value_counts().idxmax()\n",
    "    days = dict(enumerate(calendar.day_name))\n",
    "    \n",
    "    # Display the most common hour\n",
    "    most_common_hour = df[\"Hour\"].value_counts().idxmax()\n",
    "    \n",
    "    \n",
    "    print(\"---Most common month---\")\n",
    "    print(f\"{month[most_common_month]}\\n\")\n",
    "    \n",
    "    print(\"---Most common day of the week---\")\n",
    "    print(f\"{days[most_common_day]}\\n\")\n",
    "    \n",
    "    print(\"---Most common hour---\")\n",
    "    print(most_common_hour)\n",
    "\n",
    "time_stats = time_stats(df)"
   ]
  },
  {
   "cell_type": "code",
   "execution_count": null,
   "id": "1e096a6d",
   "metadata": {},
   "outputs": [],
   "source": []
  }
 ],
 "metadata": {
  "kernelspec": {
   "display_name": "Python 3 (ipykernel)",
   "language": "python",
   "name": "python3"
  },
  "language_info": {
   "codemirror_mode": {
    "name": "ipython",
    "version": 3
   },
   "file_extension": ".py",
   "mimetype": "text/x-python",
   "name": "python",
   "nbconvert_exporter": "python",
   "pygments_lexer": "ipython3",
   "version": "3.9.7"
  }
 },
 "nbformat": 4,
 "nbformat_minor": 5
}
