{
 "cells": [
  {
   "cell_type": "code",
   "execution_count": 1,
   "id": "c93ec6cb",
   "metadata": {},
   "outputs": [
    {
     "name": "stdout",
     "output_type": "stream",
     "text": [
      "The Zen of Python, by Tim Peters\n",
      "\n",
      "Beautiful is better than ugly.\n",
      "Explicit is better than implicit.\n",
      "Simple is better than complex.\n",
      "Complex is better than complicated.\n",
      "Flat is better than nested.\n",
      "Sparse is better than dense.\n",
      "Readability counts.\n",
      "Special cases aren't special enough to break the rules.\n",
      "Although practicality beats purity.\n",
      "Errors should never pass silently.\n",
      "Unless explicitly silenced.\n",
      "In the face of ambiguity, refuse the temptation to guess.\n",
      "There should be one-- and preferably only one --obvious way to do it.\n",
      "Although that way may not be obvious at first unless you're Dutch.\n",
      "Now is better than never.\n",
      "Although never is often better than *right* now.\n",
      "If the implementation is hard to explain, it's a bad idea.\n",
      "If the implementation is easy to explain, it may be a good idea.\n",
      "Namespaces are one honking great idea -- let's do more of those!\n"
     ]
    }
   ],
   "source": [
    "import this"
   ]
  },
  {
   "cell_type": "code",
   "execution_count": 2,
   "id": "c64fa610",
   "metadata": {},
   "outputs": [
    {
     "name": "stdout",
     "output_type": "stream",
     "text": [
      " Volume in drive C has no label.\n",
      " Volume Serial Number is 5054-2803\n",
      "\n",
      " Directory of C:\\Users\\USER\\Documents\\python_datascience\n",
      "\n",
      "03/31/2022  10:16 AM               419 # blessed.py\n",
      "03/29/2022  02:22 PM                84 # yemi.py\n",
      "06/20/2022  10:49 AM    <DIR>          .\n",
      "06/20/2022  10:49 AM    <DIR>          ..\n",
      "06/20/2022  10:49 AM    <DIR>          .ipynb_checkpoints\n",
      "05/06/2022  09:31 AM               672 car game.py\n",
      "03/30/2022  05:53 PM               355 claass3.py\n",
      "03/28/2022  03:57 PM             1,162 class2.py\n",
      "04/07/2022  02:02 PM             1,242 class4.py\n",
      "03/31/2022  08:05 PM                31 COMMENT.py\n",
      "06/14/2022  10:28 AM                 0 day1_pythonclass\n",
      "06/15/2022  12:28 PM             7,200 day2_pythonclass.ipynb\n",
      "06/20/2022  10:38 AM            13,464 day3_py.ipynb\n",
      "03/30/2022  07:33 PM               222 function,py.py\n",
      "03/31/2022  12:34 PM               316 God's own.py\n",
      "04/13/2022  04:58 PM                47 hotel.py\n",
      "05/06/2022  09:35 AM               264 log.py\n",
      "04/06/2022  02:34 PM               529 toLU.py\n",
      "06/15/2022  09:43 AM             5,583 Untitled.ipynb\n",
      "04/03/2022  06:24 PM               803 Untitled.py\n",
      "06/20/2022  10:49 AM                72 Untitled1.ipynb\n",
      "04/08/2022  11:46 AM               534 x and y.py\n",
      "              19 File(s)         32,999 bytes\n",
      "               3 Dir(s)  57,916,710,912 bytes free\n"
     ]
    }
   ],
   "source": [
    "ls"
   ]
  },
  {
   "cell_type": "code",
   "execution_count": 4,
   "id": "3ced529f",
   "metadata": {},
   "outputs": [],
   "source": [
    "mkdir data_file"
   ]
  },
  {
   "cell_type": "code",
   "execution_count": 5,
   "id": "41b41c7e",
   "metadata": {},
   "outputs": [
    {
     "name": "stdout",
     "output_type": "stream",
     "text": [
      " Volume in drive C has no label.\n",
      " Volume Serial Number is 5054-2803\n",
      "\n",
      " Directory of C:\\Users\\USER\\Documents\\python_datascience\n",
      "\n",
      "03/31/2022  10:16 AM               419 # blessed.py\n",
      "03/29/2022  02:22 PM                84 # yemi.py\n",
      "06/20/2022  10:51 AM    <DIR>          .\n",
      "06/20/2022  10:51 AM    <DIR>          ..\n",
      "06/20/2022  10:49 AM    <DIR>          .ipynb_checkpoints\n",
      "05/06/2022  09:31 AM               672 car game.py\n",
      "03/30/2022  05:53 PM               355 claass3.py\n",
      "03/28/2022  03:57 PM             1,162 class2.py\n",
      "04/07/2022  02:02 PM             1,242 class4.py\n",
      "03/31/2022  08:05 PM                31 COMMENT.py\n",
      "06/20/2022  10:51 AM    <DIR>          data_file\n",
      "06/14/2022  10:28 AM                 0 day1_pythonclass\n",
      "06/15/2022  12:28 PM             7,200 day2_pythonclass.ipynb\n",
      "06/20/2022  10:38 AM            13,464 day3_py.ipynb\n",
      "03/30/2022  07:33 PM               222 function,py.py\n",
      "03/31/2022  12:34 PM               316 God's own.py\n",
      "04/13/2022  04:58 PM                47 hotel.py\n",
      "05/06/2022  09:35 AM               264 log.py\n",
      "04/06/2022  02:34 PM               529 toLU.py\n",
      "06/15/2022  09:43 AM             5,583 Untitled.ipynb\n",
      "04/03/2022  06:24 PM               803 Untitled.py\n",
      "06/20/2022  10:49 AM                72 Untitled1.ipynb\n",
      "04/08/2022  11:46 AM               534 x and y.py\n",
      "              19 File(s)         32,999 bytes\n",
      "               4 Dir(s)  57,914,716,160 bytes free\n"
     ]
    }
   ],
   "source": [
    "ls"
   ]
  },
  {
   "cell_type": "code",
   "execution_count": 6,
   "id": "c0683c6c",
   "metadata": {},
   "outputs": [
    {
     "name": "stdout",
     "output_type": "stream",
     "text": [
      "C:\\Users\\USER\\Documents\\python_datascience\\data_file\n"
     ]
    }
   ],
   "source": [
    "cd data_file"
   ]
  },
  {
   "cell_type": "code",
   "execution_count": 7,
   "id": "3094dccb",
   "metadata": {},
   "outputs": [
    {
     "name": "stdout",
     "output_type": "stream",
     "text": [
      " Volume in drive C has no label.\n",
      " Volume Serial Number is 5054-2803\n",
      "\n",
      " Directory of C:\\Users\\USER\\Documents\\python_datascience\\data_file\n",
      "\n",
      "06/20/2022  10:51 AM    <DIR>          .\n",
      "06/20/2022  10:51 AM    <DIR>          ..\n",
      "               0 File(s)              0 bytes\n",
      "               2 Dir(s)  57,914,707,968 bytes free\n"
     ]
    }
   ],
   "source": [
    "ls"
   ]
  },
  {
   "cell_type": "code",
   "execution_count": 10,
   "id": "8d122993",
   "metadata": {},
   "outputs": [
    {
     "name": "stdout",
     "output_type": "stream",
     "text": [
      "['hello', 'hi', 'good', 'fine', 'cool']\n"
     ]
    }
   ],
   "source": [
    "file_path = \"C:/Users/USER/Documents/python_datascience/data_file/new_text.txt\"\n",
    "with open(file_path, \"r\") as file:\n",
    "    r_file = file.read().split(\"\\n\")\n",
    "print(r_file)"
   ]
  },
  {
   "cell_type": "code",
   "execution_count": 11,
   "id": "5d3217fc",
   "metadata": {},
   "outputs": [],
   "source": [
    "import os"
   ]
  },
  {
   "cell_type": "code",
   "execution_count": 12,
   "id": "f9fbe756",
   "metadata": {},
   "outputs": [
    {
     "ename": "NotADirectoryError",
     "evalue": "[WinError 267] The directory name is invalid: 'C:/Users/USER/Documents/python_datascience/data_file/new_text.txt'",
     "output_type": "error",
     "traceback": [
      "\u001b[1;31m---------------------------------------------------------------------------\u001b[0m",
      "\u001b[1;31mNotADirectoryError\u001b[0m                        Traceback (most recent call last)",
      "\u001b[1;32m~\\AppData\\Local\\Temp/ipykernel_2620/2188446689.py\u001b[0m in \u001b[0;36m<module>\u001b[1;34m\u001b[0m\n\u001b[0;32m      1\u001b[0m \u001b[0mall_data\u001b[0m \u001b[1;33m=\u001b[0m \u001b[1;33m[\u001b[0m\u001b[1;33m]\u001b[0m\u001b[1;33m\u001b[0m\u001b[1;33m\u001b[0m\u001b[0m\n\u001b[0;32m      2\u001b[0m \u001b[0mpath\u001b[0m \u001b[1;33m=\u001b[0m \u001b[1;34m\"C:/Users/USER/Documents/python_datascience/data_file/new_text.txt\"\u001b[0m\u001b[1;33m\u001b[0m\u001b[1;33m\u001b[0m\u001b[0m\n\u001b[1;32m----> 3\u001b[1;33m \u001b[0mlist_path\u001b[0m \u001b[1;33m=\u001b[0m \u001b[0mos\u001b[0m\u001b[1;33m.\u001b[0m\u001b[0mlistdir\u001b[0m\u001b[1;33m(\u001b[0m\u001b[0mpath\u001b[0m\u001b[1;33m)\u001b[0m\u001b[1;33m\u001b[0m\u001b[1;33m\u001b[0m\u001b[0m\n\u001b[0m\u001b[0;32m      4\u001b[0m \u001b[1;32mfor\u001b[0m \u001b[0mi\u001b[0m \u001b[1;32min\u001b[0m \u001b[0mlist_path\u001b[0m\u001b[1;33m:\u001b[0m\u001b[1;33m\u001b[0m\u001b[1;33m\u001b[0m\u001b[0m\n\u001b[0;32m      5\u001b[0m     \u001b[0mpath_file\u001b[0m \u001b[1;33m=\u001b[0m \u001b[0mpath\u001b[0m \u001b[1;33m+\u001b[0m \u001b[1;34m\"/\"\u001b[0m \u001b[1;33m+\u001b[0m \u001b[0mi\u001b[0m\u001b[1;33m\u001b[0m\u001b[1;33m\u001b[0m\u001b[0m\n",
      "\u001b[1;31mNotADirectoryError\u001b[0m: [WinError 267] The directory name is invalid: 'C:/Users/USER/Documents/python_datascience/data_file/new_text.txt'"
     ]
    }
   ],
   "source": [
    "all_data = []\n",
    "path = \"C:/Users/USER/Documents/python_datascience/data_file/new_text.txt\"\n",
    "list_path = os.listdir(path)\n",
    "for i in list_path:\n",
    "    path_file = path + \"/\" + i\n",
    "    file_val = os.listdir(path_file)\n",
    "    #print(file_val)\n",
    "    new_path = path_file + \"/\" + file_val[-1]\n",
    "    #print(new_path)\n",
    "    with open(new_path, \"r\") as file:\n",
    "        a = file.read().split()\n",
    "        all_data.append(a)\n",
    "#print(all_data)\n",
    "new_data = []\n",
    "for i in all_data:\n",
    "    a_b = []\n",
    "    for n in i:\n",
    "        b = float(n)\n",
    "        a_b.append(b)\n",
    "    new_data.append(a_b)\n",
    "print(new_data)\n"
   ]
  },
  {
   "cell_type": "code",
   "execution_count": null,
   "id": "ae253874",
   "metadata": {},
   "outputs": [],
   "source": [
    "data_val = []\n",
    "for i in new_data:\n",
    "    if len(i) < 7:\n",
    "        i.append(2.5)\n",
    "    data_val.append(i)\n",
    "print(data_val)"
   ]
  },
  {
   "cell_type": "code",
   "execution_count": null,
   "id": "31f437e5",
   "metadata": {},
   "outputs": [],
   "source": [
    "new_file = \"C:/Users/USER/Desktop/Data 1/GaminatorPy/new_data/pressure_law.txt\"\n",
    "print(\"\"\"Enter the commands\n",
    " press 1 => to write files\n",
    " press 0 => to clear backlogs\n",
    "\"\"\")\n",
    "enter_press = input(\"enter commands: \")\n",
    "\n",
    "if enter_press == \"1\":\n",
    "    file_w = open(new_file, \"a\")\n",
    "    for i in range(0, len(data_val[1])):\n",
    "        k_p = data_val[0][i]/data_val[1][i]\n",
    "        file_w.write(f\"{k_p}\\n\")\n",
    "elif enter_press == \"0\":\n",
    "    file_w = open(new_file, \"w\")\n",
    "    file_w.write(\" \")\n",
    "else:\n",
    "    print(\"inputs invalid\")\n"
   ]
  }
 ],
 "metadata": {
  "kernelspec": {
   "display_name": "Python 3 (ipykernel)",
   "language": "python",
   "name": "python3"
  },
  "language_info": {
   "codemirror_mode": {
    "name": "ipython",
    "version": 3
   },
   "file_extension": ".py",
   "mimetype": "text/x-python",
   "name": "python",
   "nbconvert_exporter": "python",
   "pygments_lexer": "ipython3",
   "version": "3.9.7"
  }
 },
 "nbformat": 4,
 "nbformat_minor": 5
}
